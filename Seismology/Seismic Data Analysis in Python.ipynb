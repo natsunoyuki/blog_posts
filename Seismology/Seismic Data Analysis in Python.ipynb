{
 "cells": [
  {
   "cell_type": "markdown",
   "id": "d44b19ff",
   "metadata": {},
   "source": [
    "# Seismic Data Analysis in Python\n",
    "\n",
    "<a href=\"http://ds.iris.edu/files/sac-manual/\" target=\"_blank\">Seismic Analysis Code</a> is a commonly used software in <a href=\"https://en.wikipedia.org/wiki/Geophysics\" target=\"_blank\">geophysics</a> and <a href=\"https://en.wikipedia.org/wiki/Seismology\" target=\"_blank\">seismology</a> to analyze seismographs. As a result, many seismographs are stored as `.sac` files, which were created specifically for Seismic Analysis Code usage. In Python, the <a href=\"https://docs.obspy.org\" target=\"_blank\">ObsPy</a> package is commonly used to analyze the seismic data stored in `.sac` files. However, despite its popularity and functionality, ObsPy at the time of writing does not directly support the conversion of .sac file data into Numpy arrays or Pandas DataFrames. This direct lack of Numpy and Pandas support was the main reason for the creation of this set of seismic analysis codes in Python.\n",
    "\n",
    "The codes can be found in my <a href=\"https://github.com/natsunoyuki/seismic_analysis_tools/blob/main/sac_tools/Sac.py\" target=\"_blank\">Github repository</a>, and the Jupyter notebook containing notes on its usage can be found <a href=\"https://github.com/natsunoyuki/seismic_analysis_tools/blob/main/Sac_demo.ipynb\" target=\"_blank\">here</a>. In this post we will go through the main functionalities of <a href=\"https://github.com/natsunoyuki/seismic_analysis_tools/blob/main/sac_tools/Sac.py\" target=\"_blank\">Sac.py</a> in my Github repository."
   ]
  },
  {
   "cell_type": "markdown",
   "id": "13bba053",
   "metadata": {},
   "source": [
    "## Seismograph Time Series\n",
    "\n",
    "A seismograph is essentially a time series, and a time series can be represented in real time domain or in complex frequency domain. A similar concept occurs in quantum mechanics where a particle's wave function can be represented either in position space or momentum space. Therefore, the main idea of the Sac class in Sac.py is to contain .sac file data in both time and frequency domains."
   ]
  },
  {
   "cell_type": "markdown",
   "id": "54a9267c",
   "metadata": {},
   "source": [
    "## The Sac Class\n",
    "\n",
    "In order to use the `Sac` class, we first have to import it from <a href=\"https://github.com/natsunoyuki/seismic_analysis_tools/blob/main/sac_tools/Sac.py\" target=\"_blank\">Sac.py</a> as shown in the code below. We can then create a `Sac` object to contain the loaded `.sac` file data, which can be plotted as a time series. We also load a separate data file containing the seismometer's response. Note that since the `.sac` data I work with only have 1 trace per file, I have crafted `Sac.py` around this restriction. The code can be easily modified to contain multiple traces.\n",
    "\n",
    "In the demonstration below, we explore the 5 main functions of the `Sac` class:\n",
    "1. Loading and visualizing `.sac` seismogram data.\n",
    "2. Trimming the loaded seismogram data.\n",
    "3. Performing Fourier transforms on the data.\n",
    "4. Visualizing the data's spectrogram.\n",
    "5. Exporting the loaded data as a Pandas DataFrame.\n",
    "\n",
    "# Loading and Visualizing .sac Data \n",
    "\n",
    "The time series as well as the corresponding pole-zero file data can be loaded into `Sac` as shown in the Python code below."
   ]
  },
  {
   "cell_type": "code",
   "execution_count": null,
   "id": "379fc7e3",
   "metadata": {},
   "outputs": [],
   "source": [
    "# import the Sac class from Sac.py in sac_tools.\n",
    "from sac_tools.Sac import Sac\n",
    "\n",
    "# Create a Sac object and read the contents of a .sac file.\n",
    "sac = Sac()\n",
    "sac.read_sac(file_name)\n",
    "\n",
    "# Load the seismometer response (pole-zero) file data.\n",
    "sac.read_pz_file(pz_file_name)\n",
    "\n",
    "# Plot the loaded seismic time series.\n",
    "sac.plot()"
   ]
  },
  {
   "cell_type": "markdown",
   "id": "8e2f10cf",
   "metadata": {},
   "source": [
    "<img src=\"https://github.com/natsunoyuki/blog_posts/blob/main/images/harmonic_tremor_1.png?raw=True\" alt=\"drawing\" width=\"600\"/>\n",
    "\n",
    "## Data Trimming\n",
    "\n",
    "As most of the `.sac` file data contains uninteresting data, we can trim the data to the portions we want. Also, we can remove the seismometer response from the time series."
   ]
  },
  {
   "cell_type": "code",
   "execution_count": null,
   "id": "341c14de",
   "metadata": {},
   "outputs": [],
   "source": [
    "# Trim the data to the specified time range as strings. \n",
    "# The code is able to parse the strings as datetime objects.\n",
    "sac.trim(\"20110202 20:43:40\", \"20110202 20:55:00\")\n",
    " \n",
    "# Using the loaded seismometer response, remove it from the seismogram.\n",
    "sac.remove_resp()\n",
    " \n",
    "sac.plot()"
   ]
  },
  {
   "cell_type": "markdown",
   "id": "6956f3f7",
   "metadata": {},
   "source": [
    "<img src=\"https://github.com/natsunoyuki/blog_posts/blob/main/images/harmonic_tremor_2.png?raw=True\" alt=\"drawing\" width=\"600\"/>\n",
    "\n",
    "## Fourier Transforms \n",
    "\n",
    "As mentioned earlier, a time series can be represented in either real time domain or in complex time domain. Note that the results of the discrete Fourier transform of the time series are stored internally in `sac.spectrum` which can be easily accessed."
   ]
  },
  {
   "cell_type": "code",
   "execution_count": null,
   "id": "7381bb1e",
   "metadata": {},
   "outputs": [],
   "source": [
    "# Calculate and plot the discrete fourier transform of the loaded time series.\n",
    "# We set the frequency range to be 0~5 Hz.\n",
    "\n",
    "sac.plot_dft(figsize = [12.5, 3], xlim = [0, 5], ylim = [0, 0.1])\n",
    "\n",
    "# The spectrum data is stored in sac.spectrum, where sac.spectrum[:, o] contains\n",
    "# the frequency steps and sac.spectrum[:, 1] contains the Fourier amplitudes."
   ]
  },
  {
   "cell_type": "markdown",
   "id": "a5d9c722",
   "metadata": {},
   "source": [
    "<img src=\"https://github.com/natsunoyuki/blog_posts/blob/main/images/harmonic_tremor_3.png?raw=True\" alt=\"drawing\" width=\"600\"/>\n",
    "\n",
    "## Spectrograms\n",
    "\n",
    "In additionally, the spectrogram can also be visualized, which shows how the Fourier spectrum changes over time."
   ]
  },
  {
   "cell_type": "code",
   "execution_count": null,
   "id": "e9d16f32",
   "metadata": {},
   "outputs": [],
   "source": [
    "# Calculate and plot the spectrogram of the loaded time series.\n",
    "# We set the frequency range to be 0~5 Hz, and use 1024 points per fft segment.\n",
    "\n",
    "sac.spectrogram(nperseg = 1024, ylim = [0, 5])"
   ]
  },
  {
   "cell_type": "markdown",
   "id": "a41939f8",
   "metadata": {},
   "source": [
    "<img src=\"https://github.com/natsunoyuki/blog_posts/blob/main/images/harmonic_tremor_4.png?raw=True\" alt=\"drawing\" width=\"600\"/>\n",
    "\n",
    "# Export as DataFrame\n",
    "\n",
    "Finally, we can export the time series data as a Pandas DataFrame for further numerical analysis in Python."
   ]
  },
  {
   "cell_type": "code",
   "execution_count": null,
   "id": "cf97a44f",
   "metadata": {},
   "outputs": [],
   "source": [
    "# Convert the loaded .sac time series as a pandas DataFrame for further numerical analysis in Python. \n",
    "df = sac.make_df(column_name = \"smn_u\")"
   ]
  }
 ],
 "metadata": {
  "kernelspec": {
   "display_name": "Python 3",
   "language": "python",
   "name": "python3"
  },
  "language_info": {
   "codemirror_mode": {
    "name": "ipython",
    "version": 3
   },
   "file_extension": ".py",
   "mimetype": "text/x-python",
   "name": "python",
   "nbconvert_exporter": "python",
   "pygments_lexer": "ipython3",
   "version": "3.7.10"
  }
 },
 "nbformat": 4,
 "nbformat_minor": 5
}
