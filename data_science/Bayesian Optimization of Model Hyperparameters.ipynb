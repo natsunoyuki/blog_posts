{
 "cells": [
  {
   "cell_type": "markdown",
   "id": "0b14dd54",
   "metadata": {},
   "source": [
    "# Bayesian Optimization of Model Hyperparameters\n",
    "\n",
    "One tricky and important part of building a machine learning model is to choose the set of hyper parameter values that optimize the model's performance against a dataset. For example, for random forests, we have to choose how many decision trees to use and the maximum depth of each decision tree in addition to many others. Tuning these hyper parameters usually involves performing a cross validated grid search which can consume a lot of computational resources, especially if large datasets and complex models such as deep neural networks are involved.\n",
    "\n",
    "<a href=\"https://en.wikipedia.org/wiki/Bayesian_optimization\" target=\"_blank\">Bayesian optimization</a> is an algorithm used to find a set of parameters that globally optimizes (that is, maximize or minimize) a black box function. This black box function usually requires a lot of time and resources to compute, making it difficult to try out every single possible combination of parameters, as would be the case in a grid search. Typical black box functions include resource intensive computations such as deep learning model hyper parameter searches. By using Bayesian optimization, we can speed up this search process significantly, thus saving time and resources. In this post, we will take a look at Bayesian optimization in Python and using it to optimize the hyper parameter search process."
   ]
  },
  {
   "cell_type": "markdown",
   "id": "86edf881",
   "metadata": {},
   "source": [
    "## The Bayesian Optimization Algorithm\n",
    "\n",
    "In Bayesian optimization there are 3 important components within the optimization algorithm:\n",
    "\n",
    "1. The black box function to optimize: _f_(_x_). The black box function is also sometimes called the objective function or the target function, or the loss function depending on the problem. \n",
    "\n",
    "2. The acquisition function: _a_(_x_), which is used to generate new parameter data points for further evaluation with the black box function. The point which optimizes the black box function is selected as the best candidate for global optimization.\n",
    "\n",
    "3. The parameter search space: _x_. If possible, with some amount of intuition or experience, this should be limited if possible to further reduce the time spent on searching.\n",
    "\n",
    "The optimization process itself is as follows:\n",
    "\n",
    "1. Define the black box function _f_(_x_), the acquisition function _a_(_x_) and the parameter _x_ search space `[x_low, x_high]`.\n",
    "\n",
    "2. Generate a set of parameters _x_ from uniform random numbers, and obtain the corresponding output of the black box function _f_(_x_).\n",
    "\n",
    "3. Fit a <a href=\"https://en.wikipedia.org/wiki/Kriging\" target=\"_blank\">Gaussian process regressor</a> on _X_ = _x_ and _y_ = _f_(_x_). \n",
    "\n",
    "4. Generate synthetic values of _x_ within the bounds of [x_low, x_high]. Using the Gaussian process regressor, predict the corresponding values of the black box function _f_(_x_). The specific values of _x_ which lead to the largest predict value of _f_(_x_) are suggested as the next set _x_ to evaluate with the black box function _f_(_x_). \n",
    "\n",
    "5. Repeat the optimization process in steps 3 and 4 until we finally get _x_ that leads to the maximum value of _f_(_x_). Note that from the second iteration onwards, all historical values of _x_ and _f_(_x_) should be used to train the Gaussian process regressor. As the number of data points increases, the Gaussian process regressor becomes better at predicting the maximum value of _f_(_x_)."
   ]
  },
  {
   "cell_type": "markdown",
   "id": "89bcbb30",
   "metadata": {},
   "source": [
    "## The <a href=\"https://github.com/fmfn/BayesianOptimization\" target=\"_blank\">`bayes_opt`</a> Library\n",
    "\n",
    "As part of this demonstration, we use the <a href=\"https://github.com/fmfn/BayesianOptimization\" target=\"_blank\">`bayes_opt`</a> library to perform the hyper parameter search for the hyper parameter `C` of a `LogisticRegression` model trained on the `sklearn` breast cancer dataset. The loss function _f_(_x_) used is the ROC AUC score which we want to maximize in order to get the best performing model, by default the acquisition function _a_(_x_) used is the upper confidence bounds function `\"ucb\"` which takes the form: `a = mean + kappa * std` from the Gaussian process regressor's predictions of _f_(_x_) where we set `kappa = 1.0`. We perform a search for the hyper parameter `C` for the range `[0.1, 10]`. The code is as follows:"
   ]
  },
  {
   "cell_type": "code",
   "execution_count": 1,
   "id": "52348ed8",
   "metadata": {},
   "outputs": [
    {
     "name": "stdout",
     "output_type": "stream",
     "text": [
      "|   iter    |  target   |     C     |\n",
      "-------------------------------------\n",
      "| \u001b[0m 1       \u001b[0m | \u001b[0m 0.9901  \u001b[0m | \u001b[0m 5.533   \u001b[0m |\n",
      "| \u001b[95m 2       \u001b[0m | \u001b[95m 0.9904  \u001b[0m | \u001b[95m 7.18    \u001b[0m |\n",
      "| \u001b[0m 3       \u001b[0m | \u001b[0m 0.9901  \u001b[0m | \u001b[0m 6.067   \u001b[0m |\n",
      "| \u001b[0m 4       \u001b[0m | \u001b[0m 0.9901  \u001b[0m | \u001b[0m 5.494   \u001b[0m |\n",
      "| \u001b[0m 5       \u001b[0m | \u001b[0m 0.9895  \u001b[0m | \u001b[0m 4.294   \u001b[0m |\n",
      "| \u001b[95m 6       \u001b[0m | \u001b[95m 0.9908  \u001b[0m | \u001b[95m 8.341   \u001b[0m |\n",
      "| \u001b[95m 7       \u001b[0m | \u001b[95m 0.991   \u001b[0m | \u001b[95m 9.504   \u001b[0m |\n",
      "| \u001b[0m 8       \u001b[0m | \u001b[0m 0.9727  \u001b[0m | \u001b[0m 0.1     \u001b[0m |\n",
      "| \u001b[0m 9       \u001b[0m | \u001b[0m 0.991   \u001b[0m | \u001b[0m 10.0    \u001b[0m |\n",
      "| \u001b[0m 10      \u001b[0m | \u001b[0m 0.9908  \u001b[0m | \u001b[0m 9.019   \u001b[0m |\n",
      "| \u001b[0m 11      \u001b[0m | \u001b[0m 0.991   \u001b[0m | \u001b[0m 9.77    \u001b[0m |\n",
      "| \u001b[0m 12      \u001b[0m | \u001b[0m 0.991   \u001b[0m | \u001b[0m 9.626   \u001b[0m |\n",
      "| \u001b[0m 13      \u001b[0m | \u001b[0m 0.991   \u001b[0m | \u001b[0m 9.888   \u001b[0m |\n",
      "| \u001b[0m 14      \u001b[0m | \u001b[0m 0.991   \u001b[0m | \u001b[0m 9.627   \u001b[0m |\n",
      "| \u001b[0m 15      \u001b[0m | \u001b[0m 0.9906  \u001b[0m | \u001b[0m 7.894   \u001b[0m |\n",
      "=====================================\n",
      "Best result: {'C': 9.504174528665441}; f(x) = 0.9909853249475891.\n"
     ]
    }
   ],
   "source": [
    "import numpy as np\n",
    "import matplotlib.pyplot as plt\n",
    "from sklearn.linear_model import LogisticRegression\n",
    "from sklearn.datasets import load_breast_cancer\n",
    "from sklearn.preprocessing import MinMaxScaler\n",
    "from sklearn.model_selection import train_test_split\n",
    "from sklearn.metrics import roc_auc_score\n",
    "from bayes_opt import BayesianOptimization, UtilityFunction\n",
    "\n",
    "# Prepare data set for demonstration.\n",
    "cancer = load_breast_cancer()\n",
    "X = cancer[\"data\"]\n",
    "y = cancer[\"target\"]\n",
    "\n",
    "X_train, X_test, y_train, y_test = train_test_split(X, y, \n",
    "                                                    stratify = y, \n",
    "                                                    random_state = 0)\n",
    "\n",
    "scaler = MinMaxScaler()\n",
    "X_train_scaled = scaler.fit_transform(X_train)\n",
    "X_test_scaled = scaler.transform(X_test)\n",
    "\n",
    "# Define the metric to optimize over.\n",
    "def black_box_function(C):\n",
    "    # Function to maximize using Bayesian optimization.\n",
    "    model = LogisticRegression(C = C)\n",
    "    model.fit(X_train_scaled, y_train)\n",
    "    y_score = model.predict_proba(X_test_scaled)[:, 1]\n",
    "    f = roc_auc_score(y_test, y_score)\n",
    "    return f\n",
    "\n",
    "# Set range of C to optimize over.\n",
    "pbounds = {\"C\": [0.1, 10]}\n",
    "\n",
    "# Create BayesianOptimization object, and optimize (maximize).\n",
    "optimizer = BayesianOptimization(f = black_box_function, \n",
    "                                 pbounds = pbounds, \n",
    "                                 verbose = 2, \n",
    "                                 random_state = 0)\n",
    "\n",
    "optimizer.maximize(init_points = 5, n_iter = 10)\n",
    "\n",
    "print(\"Best result: {}; f(x) = {}.\".format(optimizer.max[\"params\"], optimizer.max[\"target\"]))"
   ]
  },
  {
   "cell_type": "markdown",
   "id": "54519488",
   "metadata": {},
   "source": [
    "From the results above, the optimizer managed to determine that using the hyper parameter value of `C = 9.504` results in the best performing model!\n",
    "\n",
    "Instead of using the simple workflow shown above, `bayes_opt` also allows for more control over the optimization process. In this case, we have to manually perform each optimization iteration in a for loop. Inside this for loop we can add additional code to perform other calculations if required.\n",
    "\n",
    "Note that this time round, black_box_function is not passed to the optimizer object directly. This is because we will call the black_box_function directly within the for loop."
   ]
  },
  {
   "cell_type": "code",
   "execution_count": 2,
   "id": "34dc9b1c",
   "metadata": {},
   "outputs": [
    {
     "name": "stdout",
     "output_type": "stream",
     "text": [
      "Best result: {'C': 10.0}; f(x) = 0.9909853249475891.\n"
     ]
    },
    {
     "data": {
      "image/png": "[encoded data removed]",
      "text/plain": [
       "<Figure size 1080x360 with 1 Axes>"
      ]
     },
     "metadata": {
      "needs_background": "light"
     },
     "output_type": "display_data"
    }
   ],
   "source": [
    "# Create optimizer and utility function objects.\n",
    "optimizer = BayesianOptimization(f = None, pbounds = {\"C\": [0.1, 10]}, verbose = 2, random_state = 0)\n",
    "utility = UtilityFunction(kind = \"ucb\", kappa = 1.96, xi = 0.01)\n",
    "\n",
    "# Optimization for loop.\n",
    "for i in range(15):\n",
    "    # Get optimizer to suggest a new parameter value to try.\n",
    "    next_point = optimizer.suggest(utility)\n",
    "    # Evaluate the output of the black_box_function using the new parameter value.\n",
    "    target = black_box_function(**next_point)\n",
    "    try:\n",
    "        # Update the optimizer with the evaluation results. This needs to be in try-except\n",
    "        # to prevent repeat errors from occuring.\n",
    "        optimizer.register(params = next_point, target = target)\n",
    "    except:\n",
    "        pass\n",
    "    \n",
    "print(\"Best result: {}; f(x) = {}.\".format(optimizer.max[\"params\"], optimizer.max[\"target\"]))\n",
    "\n",
    "plt.figure(figsize = (15, 5))\n",
    "plt.plot(range(1, 1+len(optimizer.space.target)), optimizer.space.target, \"-o\")\n",
    "plt.grid(True)\n",
    "plt.xlabel(\"Iteration\")\n",
    "plt.ylabel(\"Black box function\")\n",
    "plt.show()"
   ]
  },
  {
   "cell_type": "markdown",
   "id": "01dcd690",
   "metadata": {},
   "source": [
    "Although this demonstration uses an extremely simple setup and makes many simplifications to the modeling process (such as not using cross validation), it depicts how Bayesian optimization can speed up the search process for the best set of hyper parameters to use in a machine learning model. For small datasets or simple models, the speed up might not be significant. However for extremely large datasets or deep neural networks, it might become economically unfeasible to test every point of the hyper parameter grid, and using optimization techniques will improve the efficiency of the hyper parameter search process."
   ]
  },
  {
   "cell_type": "code",
   "execution_count": null,
   "id": "3eaccae0",
   "metadata": {},
   "outputs": [],
   "source": []
  }
 ],
 "metadata": {
  "kernelspec": {
   "display_name": "Python 3",
   "language": "python",
   "name": "python3"
  },
  "language_info": {
   "codemirror_mode": {
    "name": "ipython",
    "version": 3
   },
   "file_extension": ".py",
   "mimetype": "text/x-python",
   "name": "python",
   "nbconvert_exporter": "python",
   "pygments_lexer": "ipython3",
   "version": "3.7.10"
  }
 },
 "nbformat": 4,
 "nbformat_minor": 5
}
