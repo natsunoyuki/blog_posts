{
 "cells": [
  {
   "cell_type": "markdown",
   "id": "dd1a648d",
   "metadata": {},
   "source": [
    "# Geocoding Addresses\n",
    "\n",
    "The vast majority of address data comes in the form of a string which is generally not directly usable by machine learning models. Therefore one important task data scientists face when handling geospatial data is the conversion of addresses to a numerical form which can then be used by machine learning models. This conversion is called <a href=\"https://en.wikipedia.org/wiki/Address_geocoding\" target=\"_blank\">geocoding</a>, and converts an address in string format to its geographical coordinates. For example, the <a href=\"https://en.wikipedia.org/wiki/White_House\" target=\"_blank\">White House</a>'s address at 1600 Pennsylvania Avenue NW geocodes to 38°53′51.7189″N, 77°02′11.5913″W. \n",
    "\n",
    "The <a href=\"https://geopy.readthedocs.io/en/stable/#nominatim\" target=\"_blank\">geopy</a> library is one of the more well known libraries for geocoding addresses in Python, although strictly speaking, geopy is simply a client which accesses the geocoding web services of third party providers. When using geopy, a geocoding web service such as <a href=\"https://developers.google.com/maps/documentation/geocoding/overview\" target=\"_blank\">Google Maps</a> or <a href=\"https://nominatim.org\" target=\"_blank\">Nominatim</a> must therefore be selected. Unfortunately, not all geocoding web services are provided for free, or have various restrictions such as daily limits for non-paying users. For this blog post, we will use <a href=\"https://nominatim.org\" target=\"_blank\">Nominatim</a>'s geocoding services which sets a strict limit of not more than 1 request per second.\n",
    "\n",
    "Accessing Nominatim's geocoding web service using geopy is not too difficult, simply call `Nominatim()` from `geopy.geocoders`, specifying explicitly `user_agent` in the arguments. If `user_agent` is not explicitly specified, 403 or 429 HTTP errors might result due to violations to Nominatim's <a href=\"https://operations.osmfoundation.org/policies/nominatim/\" target=\"_blank\">use policy</a>."
   ]
  },
  {
   "cell_type": "code",
   "execution_count": 1,
   "id": "f83efa39",
   "metadata": {},
   "outputs": [],
   "source": [
    "import numpy as np\n",
    "import geopy\n",
    "\n",
    "nominatim_geocoder = geopy.geocoders.Nominatim(user_agent = \"geocoding_address_blog_post\")"
   ]
  },
  {
   "cell_type": "markdown",
   "id": "5e6682d7",
   "metadata": {},
   "source": [
    "After initializing the geocoder, any address can be geocoded simply by passing it as a string to the geocoder. For this exploration we shall use the White House's address at 1600 Pennsylvania Avenue NW."
   ]
  },
  {
   "cell_type": "code",
   "execution_count": 2,
   "id": "0b4f8b91",
   "metadata": {},
   "outputs": [],
   "source": [
    "geocoded_address = nominatim_geocoder.geocode(\"1600 Pennsylvania Avenue NW\")"
   ]
  },
  {
   "cell_type": "markdown",
   "id": "4816610b",
   "metadata": {},
   "source": [
    "The geocoded address provides several pieces of information geocoded from the original string. The first piece of information is the full address, again given as a string."
   ]
  },
  {
   "cell_type": "code",
   "execution_count": 3,
   "id": "ef336e24",
   "metadata": {},
   "outputs": [
    {
     "data": {
      "text/plain": [
       "'White House, 1600, Pennsylvania Avenue Northwest, Washington, District of Columbia, 20500, United States'"
      ]
     },
     "execution_count": 3,
     "metadata": {},
     "output_type": "execute_result"
    }
   ],
   "source": [
    "geocoded_address.address"
   ]
  },
  {
   "cell_type": "markdown",
   "id": "ea4f5d01",
   "metadata": {},
   "source": [
    "The second, more useful to machine learning piece of information is the geographical coordinates, given as latitude, longitude and altitude."
   ]
  },
  {
   "cell_type": "code",
   "execution_count": 4,
   "id": "5f058d43",
   "metadata": {},
   "outputs": [
    {
     "data": {
      "text/plain": [
       "(38.897699700000004, -77.03655315, 0.0)"
      ]
     },
     "execution_count": 4,
     "metadata": {},
     "output_type": "execute_result"
    }
   ],
   "source": [
    "geocoded_address.latitude, geocoded_address.longitude, geocoded_address.altitude"
   ]
  },
  {
   "cell_type": "markdown",
   "id": "2504b0ac",
   "metadata": {},
   "source": [
    "Note that the geographical coordinates are given as decimal degrees instead of degrees minutes seconds. While decimal degrees are arguably more useful in machine learning, degrees minutes seconds are probably more relatable for most people. The function `dd_2_dms` below converts decimal degrees to degrees minutes seconds. "
   ]
  },
  {
   "cell_type": "code",
   "execution_count": 5,
   "id": "50b38aaa",
   "metadata": {},
   "outputs": [
    {
     "name": "stdout",
     "output_type": "stream",
     "text": [
      "(38.0, 53.0, 51.7189)\n",
      "(-77.0, 2.0, 11.5913)\n"
     ]
    }
   ],
   "source": [
    "def dd_2_dms(dd):\n",
    "    if dd < 0:\n",
    "        # The algorithm requires the input decimal degrees dd to be positive.\n",
    "        # We will re-insert any negative signs later on.\n",
    "        dd = np.abs(dd)\n",
    "        sign = 0\n",
    "    else:\n",
    "        sign = 1\n",
    "    # dd can be separated as degrees.minutes_seconds at the decimal point by using the modulo at 1.\n",
    "    degs, mins_secs = np.divmod(dd, 1)\n",
    "    # minutes_seconds can be further separated as the minutes and seconds by multiplying first min_secs\n",
    "    # by 60 to get minutes.seconds, and then separating minutes and seconds at the decimal point.\n",
    "    mins, secs = np.divmod(mins_secs * 60, 1)\n",
    "    if sign == 0:\n",
    "        degs = -degs\n",
    "    # We restrict the precision of seconds to 4 decimal places. This is arbitrary.\n",
    "    return (degs, mins, np.round(secs * 60, 4))\n",
    "\n",
    "print(dd_2_dms(geocoded_address.latitude))\n",
    "print(dd_2_dms(geocoded_address.longitude))"
   ]
  },
  {
   "cell_type": "markdown",
   "id": "50eb1c13",
   "metadata": {},
   "source": [
    "In addition to returning the full geocoded address as a string or the geographical coordinates as floating point numbers, geopy also returns a Point object, which is useful for other operations such as performing geometrical intersections with other geometries. "
   ]
  },
  {
   "cell_type": "code",
   "execution_count": 6,
   "id": "2c31e8b0",
   "metadata": {},
   "outputs": [
    {
     "data": {
      "text/plain": [
       "Point(38.897699700000004, -77.03655315, 0.0)"
      ]
     },
     "execution_count": 6,
     "metadata": {},
     "output_type": "execute_result"
    }
   ],
   "source": [
    "geocoded_address.point"
   ]
  },
  {
   "cell_type": "markdown",
   "id": "63d00c3b",
   "metadata": {},
   "source": [
    "Finally, using the `raw` attribute of the geocoded address provides the full set of information associate with the geocoded address. This includes the license of the geocoder web service, as well as the type and class of the address involved. For example, the White House is considered to be a government office."
   ]
  },
  {
   "cell_type": "code",
   "execution_count": 7,
   "id": "a591554d",
   "metadata": {},
   "outputs": [
    {
     "data": {
      "text/plain": [
       "{'place_id': 159983331,\n",
       " 'licence': 'Data © OpenStreetMap contributors, ODbL 1.0. https://osm.org/copyright',\n",
       " 'osm_type': 'way',\n",
       " 'osm_id': 238241022,\n",
       " 'boundingbox': ['38.8974908', '38.897911', '-77.0368537', '-77.0362519'],\n",
       " 'lat': '38.897699700000004',\n",
       " 'lon': '-77.03655315',\n",
       " 'display_name': 'White House, 1600, Pennsylvania Avenue Northwest, Washington, District of Columbia, 20500, United States',\n",
       " 'class': 'office',\n",
       " 'type': 'government',\n",
       " 'importance': 0.9447211541681102}"
      ]
     },
     "execution_count": 7,
     "metadata": {},
     "output_type": "execute_result"
    }
   ],
   "source": [
    "geocoded_address.raw"
   ]
  },
  {
   "cell_type": "markdown",
   "id": "3fdf003a",
   "metadata": {},
   "source": [
    "This ends our exploration in using geopy to geocode string formatted addresses to numerical format using geopy. In addition to geocoding, geopy also offers other geographical functionalities such as geodesic distance calculations. More information can be found on the <a href=\"https://geopy.readthedocs.io/en/stable/#\" target = \"_blank\">official documentation</a>."
   ]
  },
  {
   "cell_type": "code",
   "execution_count": null,
   "id": "7d9b796a",
   "metadata": {},
   "outputs": [],
   "source": []
  }
 ],
 "metadata": {
  "kernelspec": {
   "display_name": "Python 3 (ipykernel)",
   "language": "python",
   "name": "python3"
  },
  "language_info": {
   "codemirror_mode": {
    "name": "ipython",
    "version": 3
   },
   "file_extension": ".py",
   "mimetype": "text/x-python",
   "name": "python",
   "nbconvert_exporter": "python",
   "pygments_lexer": "ipython3",
   "version": "3.7.11"
  }
 },
 "nbformat": 4,
 "nbformat_minor": 5
}
