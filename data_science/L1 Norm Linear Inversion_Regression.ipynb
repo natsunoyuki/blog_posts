{
 "cells": [
  {
   "cell_type": "markdown",
   "metadata": {
    "id": "QPp1hnQnz0xP"
   },
   "source": [
    "# L1 Norm Linear Inversion/Regression\n",
    "\n",
    "In fields such as physics, statistics and data science, <a href=\"https://en.wikipedia.org/wiki/Linear_regression\" target=\"_blank\">linear regression</a>/inversion is one of the most common methods used to model data. The term regression is more commonly used in statistics and data science, while the term inversion is more commonly used in geophysics. Despite the difference in naming conventions, the underlying mathematics is the same which we will explore in this post."
   ]
  },
  {
   "cell_type": "markdown",
   "metadata": {},
   "source": [
    "## Ordinary Least Squares (L2 Norm Linear Regression)\n",
    "\n",
    "Linear models assume that the observed data __d__ has a linear relationship with the model parameters __m__ according to the linear relation __d__ = __Gm__, where __G__ is the regression kernel. From __d__ and __G__, the aim is to find the appropriate __m__ which can explain the behavior of __d__.\n",
    "\n",
    "Generally, most linear regression methods attempt to minimize the mean squared error _E_ = (__d__ - __Gm__)<sup>T</sup>(__d__ - __Gm__) between the data and the model predictions for over determined problems. Such linear regression methods are called ordinary least squares methods as they involve the square of the error, and assume that the distribution of both the data d and the model parameters m obey Gaussian statistics. Note that the mean squared error error is also termed the L2 norm error.\n",
    "\n",
    "For ordinary least squares regression, the model parameters for an over determined problem can be easily calculated using the analytical solution: __m__ = [__G__<sup>T</sup>__G__]<sup>-1</sup>__G__<sup>T</sup>__d__. The Python code below demonstrates how to implement this analytical solution."
   ]
  },
  {
   "cell_type": "code",
   "execution_count": 1,
   "metadata": {
    "executionInfo": {
     "elapsed": 410,
     "status": "ok",
     "timestamp": 1633952732946,
     "user": {
      "displayName": "Yuki Natsume",
      "photoUrl": "https://lh3.googleusercontent.com/a/default-user=s64",
      "userId": "14807480849120006303"
     },
     "user_tz": -540
    },
    "id": "2B1qExJdyzqG"
   },
   "outputs": [],
   "source": [
    "import numpy as np\n",
    "import matplotlib.pyplot as plt\n",
    "from scipy.optimize import linprog\n",
    "\n",
    "import warnings\n",
    "warnings.filterwarnings(\"ignore\")\n",
    "\n",
    "def least_squares(G, d):\n",
    "    m = np.dot(np.linalg.inv(np.dot(G.T, G)), G.T)\n",
    "    m = np.dot(m, d)\n",
    "    return m"
   ]
  },
  {
   "cell_type": "markdown",
   "metadata": {
    "id": "ZcI_eDey0zBC"
   },
   "source": [
    "## L1 Norm Linear Regression\n",
    "\n",
    "However, there are cases where the Gaussian distribution assumption does not always hold. For example the observed data points might obey an exponential distribution instead. Linear regression methods based on the exponential distribution attempt to minimize the mean absolute error _E_ = |__d__ - __Gm__| between the data and the predictions instead, and due to the exponential distribution assumption are much more tolerant of outlier data points as compared to ordinary least squares. Note that the mean absolute error is also called the L1 norm error.\n",
    "\n",
    "Unlike L2 norm linear regression, L1 norm linear regression do not have an analytical solution, and we have to resort to numerical solutions. One common method used to solve L1 norm regression is the linear programming method, where we cast the regression in the following form. \n",
    "\n",
    "We assume a linear relationship between the data vector __d__ with size _N_×1 and the model parameters vector __m__ with size _M_×1 given by:\n",
    "\n",
    "__d__ = __Gm__ \n",
    "\n",
    "with inversion kernel matrix __G__ with size _N_×_M_. We want to minimize the mean absolute error weighted by the standard deviation of the data σ: \n",
    "\n",
    "_E_ = |__d__ - __Gm__|(1/σ), \n",
    "\n",
    "subject to the constraints: \n",
    "\n",
    "__Gm__<sub>1</sub> - __Gm__<sub>2</sub> + __x__<sub>1</sub> - __α__ = __d__,\n",
    "\n",
    "__Gm__<sub>1</sub> - __Gm__<sub>2</sub> - __x__<sub>2</sub> + __α__ = __d__, \n",
    "\n",
    "\n",
    "__m__<sub>1</sub> ≥ 0, __m__<sub>2</sub> ≥ 0, __x__<sub>1</sub> ≥ 0, __x__<sub>2</sub> ≥ 0, __α__ ≥ 0, \n",
    "\n",
    "where: \n",
    "\n",
    "__α__ = |__d__ - __Gm__|, __m__ = __m__<sub>1</sub> - __m__<sub>2</sub>, and __m__<sub>1</sub>, __m__<sub>2</sub>, __x__<sub>1</sub> and __x__<sub>2</sub> are additional parameters required to convert the linear relation into a linear programming problem.\n",
    "\n",
    "The linear programming equations above are represented by the following vectors and matrices: \n",
    "\n",
    "1. __x__ = [[__m__<sub>1</sub>], [__m__<sub>2</sub>], [__α__], [__x__<sub>1</sub>], [__x__<sub>2</sub>]] with size 3 _N_ + 2 _N_ × 1,\n",
    "\n",
    "2. _f_ = [[__0__<sub>M×1</sub>], [__0__<sub>M×1</sub>], [1/σ], [__0__<sub>N×1</sub>], [__0__<sub>N×1</sub>]] with sub-matrix sizes corresponding to those in __x__,\n",
    "\n",
    "3. __A__<sub>eq</sub> = [[__G__, -__G__, -__1__<sub>N×N</sub>, __1__<sub>N×N</sub>, __0__<sub>N×N</sub>], [__G__, -__G__, __1__<sub>N×N</sub>, __0__<sub>N×NM/sub>, -__1__<sub>N×N</sub>]] with size 2 _N_ × 3 _N_ + 2 _M_,\n",
    "\n",
    "4. __b__<sub>eq</sub> = [[__d__], [__d__]] with size 2 _N_ × 1,\n",
    "\n",
    "5. __A__ = __1__<sub>3N+2M×3N+2M</sub>], [__1__<sub>2M×3N+2M</sub>]] with size 3 _N_ + 4 _M_ × 3 _N_ + 2 _M_,\n",
    "\n",
    "6. __b__ = [[__0__<sub>3N+2M×1</sub>], [__m__<sub>up</sub>]] with size 3 _N_ + 4 _M_ × 1, where __m__<sub>up</sub> is the upper bound of the model parameters __m__.\n",
    "\n",
    "This linear programming problem can then be solved numerically. The Python L1 norm linear regression solver below for the over determined case is adapted from the MATLAB code in <a href=\"https://www.amazon.co.jp/-/en/William-Menke/dp/B074R6RNNN/ref=sr_1_1?dchild=1&keywords=Geophysical+Data+Analysis%3A+Discrete+Inverse+Theory+MATLAB+Edition+Third+Edition&qid=1604754561&sr=8-1\" target=\"_blank\">Geophysical Data Analysis: Discrete Inverse Theory MATLAB Edition, Third Edition, William Menke</a>."
   ]
  },
  {
   "cell_type": "code",
   "execution_count": 2,
   "metadata": {
    "executionInfo": {
     "elapsed": 267,
     "status": "ok",
     "timestamp": 1633952733209,
     "user": {
      "displayName": "Yuki Natsume",
      "photoUrl": "https://lh3.googleusercontent.com/a/default-user=s64",
      "userId": "14807480849120006303"
     },
     "user_tz": -540
    },
    "id": "0AefcdPv3lZX"
   },
   "outputs": [],
   "source": [
    "def l1_norm_inversion(G, d, sd = None):\n",
    "    \"\"\"\n",
    "    Linear inversion using L1 norm error instead \n",
    "    of mean squared error for over determined problems.\n",
    "    The inversion problem is transformed into a \n",
    "    linear programming problem and solved using the \n",
    "     linprog() function from scipy.optimize.\n",
    "    See Geophysical Data Analysis: Discrete Inverse \n",
    "    Theory MATLAB Edition Third Edition by William \n",
    "    Menke pages 153-157 for more details.\n",
    "    \n",
    "    Inputs\n",
    "    ------\n",
    "    G: np.array\n",
    "        np.array of the inversion kernel. \n",
    "        Equivalent to X in scikit-learn api.\n",
    "    d: np.array\n",
    "        np.array of observations. \n",
    "        Equivalent to y in scikit-learn api.\n",
    "    sd: np.array\n",
    "        std of the measurement d. \n",
    "        Set to 1 by default.\n",
    "        \n",
    "    Returns\n",
    "    -------\n",
    "    mest_l1: np.array\n",
    "        np.array of the inverted model parameters\n",
    "    \"\"\"\n",
    "    # If the std of the measurement d was not provided,\n",
    "    # set it to 1.\n",
    "    if sd is None:\n",
    "        sd = np.ones(len(d))\n",
    "    \n",
    "    N, M = np.shape(G)\n",
    "    L = 2 * M + 3 * N\n",
    "\n",
    "    # 1. Create f containing the inverse data std:\n",
    "    f = np.zeros(L)\n",
    "    f[2*M:2*M+N] = 1 / sd\n",
    "\n",
    "    # Make Aeq and beq for the equality constraints:\n",
    "    Aeq = np.zeros([2*N, L])\n",
    "    beq = np.zeros(2*N)\n",
    "    \n",
    "    Aeq[:N, :M] = G\n",
    "    Aeq[:N, M:2*M] = -G\n",
    "    Aeq[:N, 2*M:2*M+N] = -np.eye(N)\n",
    "    Aeq[:N, 2*M+N:2*M+2*N] = np.eye(N)\n",
    "    beq[:N] = d\n",
    "    \n",
    "    Aeq[N:2*N, :M] = G\n",
    "    Aeq[N:2*N, M:2*M] = -G\n",
    "    Aeq[N:2*N, 2*M:2*M+N] = np.eye(N)\n",
    "    Aeq[N:2*N, 2*M+2*N:2*M+3*N] = -np.eye(N)\n",
    "    beq[N:2*N] = d\n",
    "    \n",
    "    # Make A and b for the >=0 constraints:\n",
    "    A = np.zeros([L+2*M, L])\n",
    "    b = np.zeros(L+2*M)\n",
    "    A[:L, :] = -np.eye(L)\n",
    "    b[:L] = np.zeros(L)\n",
    "    \n",
    "    A[L:L+2*M] = np.eye(2*M, L)\n",
    "    # For this example, we use the least squares solution\n",
    "    # as the upper bound for the model parameters.\n",
    "    mls = least_squares(G, d)\n",
    "    mupperbound = 10 * np.max(np.abs(mls))\n",
    "    b[L:L+2*M] = mupperbound\n",
    "    \n",
    "    res = linprog(f, A, b, Aeq, beq)\n",
    "    \n",
    "    # The output res = [m1, m2, alpha, x1, x2]. \n",
    "    # Extract m1 and m2 and calculate the model \n",
    "    # parameters using m = m1 - m2.\n",
    "    mest_l1 = res['x'][:M] - res['x'][M:2*M]\n",
    "    return mest_l1"
   ]
  },
  {
   "cell_type": "markdown",
   "metadata": {
    "id": "MsMEEtYlIkyj"
   },
   "source": [
    "As part of this demonstration, we attempt to invert the model parameters of the quadratic equation _f_(_x_) = 3<i>x</i><sup>2</sup> - _x_ + 2. We include an outlier data point in the data to demonstrate the difference between how the two solutions behave. The solutions are shown in the graph below."
   ]
  },
  {
   "cell_type": "code",
   "execution_count": 3,
   "metadata": {
    "colab": {
     "base_uri": "https://localhost:8080/",
     "height": 334
    },
    "executionInfo": {
     "elapsed": 365,
     "status": "ok",
     "timestamp": 1633952733570,
     "user": {
      "displayName": "Yuki Natsume",
      "photoUrl": "https://lh3.googleusercontent.com/a/default-user=s64",
      "userId": "14807480849120006303"
     },
     "user_tz": -540
    },
    "id": "QOLxVd9PIibO",
    "outputId": "36708dfe-cf48-4e7b-ff33-fa2b4b67a2e0"
   },
   "outputs": [
    {
     "data": {
      "image/png": "[encoded data removed]",
      "text/plain": [
       "<Figure size 720x360 with 1 Axes>"
      ]
     },
     "metadata": {
      "needs_background": "light"
     },
     "output_type": "display_data"
    }
   ],
   "source": [
    "x = np.arange(-1.0, 1.0+0.1, 0.1)\n",
    "y = 3 * x ** 2 - x + 2\n",
    "y[-1] = 2\n",
    "\n",
    "mest_l2 = least_squares(np.vander(x, 3), y)\n",
    "mest_l1 = l1_norm_inversion(np.vander(x, 3), y)\n",
    "\n",
    "plt.figure(figsize = (10, 5))\n",
    "plt.plot(x, y, \"o\")\n",
    "plt.plot(x, mest_l2[0] * x**2 + mest_l2[1] * x + mest_l2[2])\n",
    "plt.plot(x, mest_l1[0] * x**2 + mest_l1[1] * x + mest_l1[2])\n",
    "plt.xlabel(\"x\")\n",
    "plt.ylabel(\"f(x)\")\n",
    "plt.grid(True)\n",
    "plt.legend([\"Data\", \"L2 Regression\", \"L1 Regression\"])\n",
    "plt.show()"
   ]
  },
  {
   "cell_type": "code",
   "execution_count": 4,
   "metadata": {
    "colab": {
     "base_uri": "https://localhost:8080/"
    },
    "executionInfo": {
     "elapsed": 11,
     "status": "ok",
     "timestamp": 1633952733571,
     "user": {
      "displayName": "Yuki Natsume",
      "photoUrl": "https://lh3.googleusercontent.com/a/default-user=s64",
      "userId": "14807480849120006303"
     },
     "user_tz": -540
    },
    "id": "AUP5gZ3AKLaY",
    "outputId": "e0de5891-ead5-40d7-bac1-8c3dd5660949"
   },
   "outputs": [
    {
     "name": "stdout",
     "output_type": "stream",
     "text": [
      "[ 2.43534726 -1.25974026  2.11180124]\n",
      "[ 3. -1.  2.]\n"
     ]
    }
   ],
   "source": [
    "print(mest_l2)\n",
    "print(mest_l1)"
   ]
  },
  {
   "cell_type": "markdown",
   "metadata": {
    "id": "PpEJOFshKKeh"
   },
   "source": [
    "Note that the L2 solution (ordinary least squares regression) is affected by the outlier data point due to the assumption that the data obeys Gaussian statistics and returns:\n",
    "\n",
    "_f_(_x_) = 2.44<i>x</i><sup>2</sup> - 1.26 _x_ + 2.11, \n",
    "\n",
    "while the L1 solution is not and returns a more accurate solution:\n",
    "\n",
    "_f_(_x_) = 3<i>x</i><sup>2</sup> - _x_ + 2. \n",
    "\n",
    "The linear programming method is not necessarily the best method to perform L1 norm regression, but it does work quite nicely although sometimes the numerical solver gets stuck so multiple runs might be needed to get a reasonable solution. \n",
    "\n",
    "If you are using `tensorflow`, then L1 norm regression models can be built using `tf.keras.losses.MeanAbsoluteError` as the model's loss function. In addition, `sklearn`'s linear_model library also contains various models which are able to deal with more complex loss function such as the Huber loss which combines the best of both L1 and L2 norm errors.\n",
    "\n",
    "For more details regarding L1 norm inversion/regression, I recommend <a href=\"https://www.amazon.co.jp/-/en/William-Menke/dp/B074R6RNNN/ref=sr_1_1?dchild=1&keywords=Geophysical+Data+Analysis%3A+Discrete+Inverse+Theory+MATLAB+Edition+Third+Edition&qid=1604754561&sr=8-1\" target=\"_blank\">Geophysical Data Analysis: Discrete Inverse Theory MATLAB Edition, Third Edition, William Menke</a> where the mathematical details are covered in greater detail, in addition to demonstrating a L1 norm solver for the under determined case."
   ]
  },
  {
   "cell_type": "code",
   "execution_count": 4,
   "metadata": {
    "executionInfo": {
     "elapsed": 7,
     "status": "ok",
     "timestamp": 1633952733572,
     "user": {
      "displayName": "Yuki Natsume",
      "photoUrl": "https://lh3.googleusercontent.com/a/default-user=s64",
      "userId": "14807480849120006303"
     },
     "user_tz": -540
    },
    "id": "mSLVFp69Ji3l"
   },
   "outputs": [],
   "source": []
  }
 ],
 "metadata": {
  "colab": {
   "authorship_tag": "ABX9TyPCwjDsLAeo1UfPj0+d9izf",
   "collapsed_sections": [],
   "name": "L1 Norm Linear Inversion/Regression.ipynb",
   "provenance": []
  },
  "kernelspec": {
   "display_name": "Python 3",
   "language": "python",
   "name": "python3"
  },
  "language_info": {
   "codemirror_mode": {
    "name": "ipython",
    "version": 3
   },
   "file_extension": ".py",
   "mimetype": "text/x-python",
   "name": "python",
   "nbconvert_exporter": "python",
   "pygments_lexer": "ipython3",
   "version": "3.7.10"
  }
 },
 "nbformat": 4,
 "nbformat_minor": 1
}
