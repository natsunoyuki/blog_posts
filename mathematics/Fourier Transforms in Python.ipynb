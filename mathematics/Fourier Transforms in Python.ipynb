{
 "cells": [
  {
   "cell_type": "markdown",
   "id": "0b14dd54",
   "metadata": {},
   "source": [
    "# Fourier Transforms in Python\n",
    "\n",
    "Most scientists and engineers will encounter periodic data at some point of time in their careers. Common examples include hourly people and <a href=\"https://www.citibikenyc.com/system-data\" target=\"_blank\">vehicle flow</a> in a particular part of a city and <a href=\"https://data.gov.sg/dataset/rainfall-monthly-number-of-rain-days\" target=\"_blank\">climate measurements</a> for a particular geographic location. Although one can use certain tricks to deal with periodic data using machine learning methods, a more classical approach exists. This classical approach is known as the <a href=\"https://en.wikipedia.org/wiki/Fourier_transform\" target=\"_blank\">Fourier transform</a> and is widely used in physics and engineering. \n",
    "\n",
    "The Fourier transform essentially converts a particular signal from time domain to frequency domain. If any periodic signals are present in the main signal, they will become obvious in the frequency domain. As the Fourier transform is originally defined for continuous signals, when dealing with discretely measured signals (i.e. every single signal measured digitally), we use the <a href=\"https://en.wikipedia.org/wiki/Discrete_Fourier_transform\" target=\"_blank\">discrete Fourier transform</a> instead."
   ]
  },
  {
   "cell_type": "markdown",
   "id": "86edf881",
   "metadata": {},
   "source": [
    "## The Discrete Fourier Transform\n",
    "\n",
    "For some discrete signal _X_ with length _N_, the nth element of the discrete Fourier transform _x_ is given by the equation:\n",
    "\n",
    "<img src=\"https://github.com/natsunoyuki/blog_posts/blob/main/images/dft.png?raw=True\" alt=\"drawing\" width=\"200\"/>\n",
    "\n",
    "while nth element of the inverse discrete Fourier transform is given by:\n",
    "\n",
    "<img src=\"https://github.com/natsunoyuki/blog_posts/blob/main/images/idft.png?raw=True\" alt=\"drawing\" width=\"200\"/>\n",
    "\n",
    "These 2 equations can be written in Python as:"
   ]
  },
  {
   "cell_type": "code",
   "execution_count": 1,
   "id": "dfe2afc7",
   "metadata": {},
   "outputs": [],
   "source": [
    "import numpy as np\n",
    "\n",
    "def dft(X):\n",
    "    \"\"\"\n",
    "    Discrete Fourier Transform.\n",
    "    Inputs\n",
    "    ------\n",
    "    X: np.array\n",
    "        np.array of X values to be Fourier transformed. \n",
    "        len(X) should be a power of 2\n",
    "    Returns\n",
    "    -------\n",
    "    x: np.array\n",
    "        DFT of X\n",
    "    \"\"\"        \n",
    "    N = len(X)\n",
    "    x = np.zeros(N, 'complex')\n",
    "    K = np.arange(0, N, 1)\n",
    "    for n in range(0, N, 1):\n",
    "        x[n] = np.dot(X, np.exp(1j * 2 * np.pi * K * n / N))\n",
    "    return x\n",
    "\n",
    "def idft(X):\n",
    "    \"\"\"\n",
    "    Inverse Discrete Fourier Transform. \n",
    "    This is the inverse function of dft().\n",
    "    Inputs\n",
    "    ------\n",
    "    X: np.array\n",
    "        np.array of X values to be inverse Fourier transformed. \n",
    "        len(X) should be a power of 2\n",
    "    Returns\n",
    "    -------\n",
    "    x: np.array\n",
    "        DFT of X\n",
    "    \"\"\"\n",
    "    N = len(X)\n",
    "    x = np.zeros(N, 'complex')\n",
    "          \n",
    "    K = np.arange(0, N, 1)\n",
    "    for n in range(0, N, 1):\n",
    "        x[n] = np.dot(X, np.exp(-1j * 2 * np.pi * K * n / N))\n",
    "    return x / N"
   ]
  },
  {
   "cell_type": "markdown",
   "id": "b982a7fb",
   "metadata": {},
   "source": [
    "We loop through all possible discrete frequency elements _n_. Instead of using a nested for loop to iterate through all time steps _k_, we observe that the equations above are actually dot products between the two vectors _X_ and `np.exp(1j * 2 * np.pi * K * n / N)`. By doing this, we gain a huge speed up in the calculation time as we do not need to execute the nested for loop.\n",
    "\n",
    "We demonstrate the discrete Fourier transform using an actual harmonic tremor measured at Shinmoedake on 2 Feb 2011. A portion of the signal, cut to a length of 2048 elements is shown below. Note that in general, Fourier transforms should be conducted on signals with lengths of powers of 2, such as 256, 512, 1024 and 2048 elements. This is because the vast majority of dft packages are optimized for calculations involving powers of 2.\n",
    "\n",
    "<img src=\"https://github.com/natsunoyuki/blog_posts/blob/main/images/shinmoedake_1.png?raw=True\" alt=\"drawing\" width=\"700\"/>"
   ]
  },
  {
   "cell_type": "markdown",
   "id": "baea15b1",
   "metadata": {},
   "source": [
    "Running the discrete Fourier transform using the code above produces the following spectrum, showing why “harmonic tremor” is called harmonic tremor. There are sharp frequency peaks at 0.9, 1.8, 2.7, 3.6, 4.5 ... Hz, showing how the discrete Fourier transform has made obvious the periodicities in the original signal, as well as the relative strengths of the different periodicities. The strongest periodicity occurs at 0.9 Hz, while the other periodicities are roughly the same magnitude.\n",
    "\n",
    "<img src=\"https://github.com/natsunoyuki/blog_posts/blob/main/images/shinmoedake_2.png?raw=True\" alt=\"drawing\" width=\"700\"/>"
   ]
  },
  {
   "cell_type": "markdown",
   "id": "d9a21cea",
   "metadata": {},
   "source": [
    "Note that the dft code above does not give the discrete frequency space values. To get them use the code below:\n",
    "\n",
    "`t = np.arange(0, len(X)*0.01, 0.01)`\n",
    "\n",
    "`x = dft(X)`\n",
    "\n",
    "`fs = 1 / (t[2] - t[1])`\n",
    "\n",
    "`T = len(x) / fs`\n",
    "\n",
    "`freq = np.arange(0, fs, 1 / T)`\n",
    "\n",
    "where _X_ is the original discrete signal array in time domain, and 0.01 s is the sampling time step"
   ]
  },
  {
   "cell_type": "markdown",
   "id": "f05a04a6",
   "metadata": {},
   "source": [
    "Coding the discrete Fourier transform is a good way to understand what goes on under the hood, but for most purposes you should use packages that have been well optimized (and debugged) for speed. Such packages include `scipy.fft` and `numpy.fft` for Python, and `fft` for GNU Octave. I hope this post has provided some insight into the discrete Fourier transform and its uses. "
   ]
  },
  {
   "cell_type": "code",
   "execution_count": null,
   "id": "f39e2d36",
   "metadata": {},
   "outputs": [],
   "source": []
  }
 ],
 "metadata": {
  "kernelspec": {
   "display_name": "Python 3",
   "language": "python",
   "name": "python3"
  },
  "language_info": {
   "codemirror_mode": {
    "name": "ipython",
    "version": 3
   },
   "file_extension": ".py",
   "mimetype": "text/x-python",
   "name": "python",
   "nbconvert_exporter": "python",
   "pygments_lexer": "ipython3",
   "version": "3.7.10"
  }
 },
 "nbformat": 4,
 "nbformat_minor": 5
}
