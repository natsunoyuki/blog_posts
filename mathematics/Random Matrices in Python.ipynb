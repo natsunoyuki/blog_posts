{
 "cells": [
  {
   "cell_type": "markdown",
   "id": "0b14dd54",
   "metadata": {},
   "source": [
    "# Random Matrices in Python\n",
    "\n",
    "As the name implies, <a href=\"https://en.wikipedia.org/wiki/Random_matrix\" target=\"_blank\">random matrices</a> are basically matrices with randomly generated elements. They have been successfully applied to various fields, such as nuclear physics, neuroscience and multivariate statistical analysis. In particular, the distributions of symmetrical random matrix eigenvalues have some interesting properties which we will explore in this post."
   ]
  },
  {
   "cell_type": "markdown",
   "id": "86edf881",
   "metadata": {},
   "source": [
    "## The Wigner Semicircle and Surmise\n",
    "\n",
    "According to random matrix theory, the distribution of the eigenvalues of an ensemble of symmetric random matrices can be approximated by the <a href=\"https://en.wikipedia.org/wiki/Wigner_semicircle_distribution\" target=\"_blank\">Wigner semicircle</a>."
   ]
  },
  {
   "cell_type": "code",
   "execution_count": 1,
   "id": "89dfb54a",
   "metadata": {},
   "outputs": [],
   "source": [
    "import numpy as np\n",
    "import matplotlib.pyplot as plt\n",
    "\n",
    "# Wigner Semi Circle\n",
    "R = 2\n",
    "x = np.linspace(-R, R, 1000)\n",
    "semicircle = 2 / (R**2 * np.pi) * np.sqrt(R**2 - x**2)"
   ]
  },
  {
   "cell_type": "markdown",
   "id": "d910da40",
   "metadata": {},
   "source": [
    "Correspondingly, the distribution of the eigenvalue spacings of an ensemble of symmetric random matrices can be approximated by the <a href=\"https://en.wikipedia.org/wiki/Wigner_surmise\" target=\"_blank\">Wigner surmise</a>. The Wigner surmise was originally developed to describe the the spaces between points in the spectra of the nuclei of heavy atoms (i.e. radioactive atoms such as Uranium)."
   ]
  },
  {
   "cell_type": "code",
   "execution_count": 2,
   "id": "a4ae0182",
   "metadata": {},
   "outputs": [],
   "source": [
    "# Wigner Surmise\n",
    "s = np.linspace(0, 3, 1000)\n",
    "surmise = np.pi * s / 2 * np.exp(-np.pi * s**2 / 4)  "
   ]
  },
  {
   "cell_type": "markdown",
   "id": "3e10bfb1",
   "metadata": {},
   "source": [
    "## The Grand Orthogonal Ensemble\n",
    "\n",
    "Now that we have these two properties on hand, all we need to do is to create some random matrices to try out! First of all, we have the Grand Orthogonal Ensemble which models Hamiltonians with time reversal symmetry."
   ]
  },
  {
   "cell_type": "code",
   "execution_count": 3,
   "id": "ac667631",
   "metadata": {},
   "outputs": [],
   "source": [
    "def goe_eigs(N = 10):\n",
    "    # Grand Orthogonal Ensemble: \n",
    "    # Hamiltonians with time reversal symmetry\n",
    "    A = np.random.randn(N, N)\n",
    "    B = 2**-0.5 * (A + A.T)\n",
    "    D = np.linalg.eigvals(B)  \n",
    "    return np.real(D)"
   ]
  },
  {
   "cell_type": "markdown",
   "id": "bcfd0541",
   "metadata": {},
   "source": [
    "## The Grand Unified Ensemble\n",
    "\n",
    "Next, we have the Grand Unified Ensemble which models Hamiltonians without time reversal symmetry."
   ]
  },
  {
   "cell_type": "code",
   "execution_count": 4,
   "id": "0a37dd78",
   "metadata": {},
   "outputs": [],
   "source": [
    "def gue_eigs(N = 10):\n",
    "    # Grand Unified Ensemble: \n",
    "    # Hamiltonians without time reversal symmetry\n",
    "    A = np.random.randn(N, N) + 1j * np.random.randn(N, N) \n",
    "    B = 2**-1 * (A + np.conj(A.T)) \n",
    "    D = np.linalg.eigvals(B)  \n",
    "    return np.real(D)"
   ]
  },
  {
   "cell_type": "markdown",
   "id": "1567d2d0",
   "metadata": {},
   "source": [
    "## The Symmetric Bernoulli Ensemble\n",
    "\n",
    "Finally, we have the Symmetric Bernoulli Ensemble which are random sign matrices which are constrained to be symmetric."
   ]
  },
  {
   "cell_type": "code",
   "execution_count": 5,
   "id": "3321549d",
   "metadata": {},
   "outputs": [],
   "source": [
    "def bernoulli_eigs(N = 10):\n",
    "    # Symmetric Bernoulli Ensemble\n",
    "    B = np.zeros([N, N])\n",
    "    for i in range(N):\n",
    "        for j in range(N):\n",
    "            if i >= j & i != j:\n",
    "                x = np.random.random()\n",
    "                if x <= 0.5:\n",
    "                    B[i][j] = 1\n",
    "                    B[j][i] = 1\n",
    "                else:\n",
    "                    B[i][j] = -1\n",
    "                    B[j][i] = -1\n",
    "    D = np.linalg.eigvals(B) \n",
    "    return np.real(D)"
   ]
  },
  {
   "cell_type": "markdown",
   "id": "b27bbc84",
   "metadata": {},
   "source": [
    "## Eigenvalues of a Random Matrix\n",
    "\n",
    "For the time being, we will explore the the eigenvalue distribution of the Grand Orthogonal Ensemble. Using the code below, we generate 1000 different symmetric random matrices with dimensions of 10 × 10, and compute the spacings between the eigenvalues."
   ]
  },
  {
   "cell_type": "code",
   "execution_count": 6,
   "id": "060e80bb",
   "metadata": {},
   "outputs": [],
   "source": [
    "n_matrices = 1000\n",
    "N = 10   \n",
    "\n",
    "# Generate eigenvalues from 1000 different 10×10 matrices: \n",
    "eig = np.zeros([n_matrices, N]) \n",
    "for i in range(n_matrices):\n",
    "    eig[i, :] = goe_eigs(N) \n",
    "#  Don't forget to normalize the eigenvalues!\n",
    "eig = eig / np.sqrt(N) \n",
    "\n",
    "# Obtain eigenvalue spacing:\n",
    "# diff and sort operates row-wise by default\n",
    "spacing = np.diff(np.sort(eig)) \n",
    "# np.mean operates over all matrix elements\n",
    "spacing = spacing / np.mean(spacing) "
   ]
  },
  {
   "cell_type": "markdown",
   "id": "b82916fd",
   "metadata": {},
   "source": [
    "The distribution of the eigenvalues can be approximated by the Wigner semicircle."
   ]
  },
  {
   "cell_type": "code",
   "execution_count": 7,
   "id": "30611056",
   "metadata": {},
   "outputs": [
    {
     "data": {
      "image/png": "[encoded data removed]",
      "text/plain": [
       "<Figure size 720x360 with 1 Axes>"
      ]
     },
     "metadata": {
      "needs_background": "light"
     },
     "output_type": "display_data"
    }
   ],
   "source": [
    "plt.figure(figsize = (10, 5))\n",
    "plt.hist(eig.ravel(), 100, density = True)\n",
    "plt.plot(x, semicircle)\n",
    "plt.grid(True)\n",
    "plt.show()"
   ]
  },
  {
   "cell_type": "markdown",
   "id": "e38c8616",
   "metadata": {},
   "source": [
    "The distribution of the eigenvalue spacings can be approximated by the Wigner surmise. This corresponds to the spaces between points in the spectra of the nuclei of heavy atoms!"
   ]
  },
  {
   "cell_type": "code",
   "execution_count": 8,
   "id": "a34a032c",
   "metadata": {},
   "outputs": [
    {
     "data": {
      "image/png": "[encoded data removed]",
      "text/plain": [
       "<Figure size 720x360 with 1 Axes>"
      ]
     },
     "metadata": {
      "needs_background": "light"
     },
     "output_type": "display_data"
    }
   ],
   "source": [
    "plt.figure(figsize = (10, 5))\n",
    "plt.hist(spacing.ravel(), 100, density = True)\n",
    "plt.plot(s, surmise)\n",
    "plt.grid(True)\n",
    "plt.show()"
   ]
  },
  {
   "cell_type": "code",
   "execution_count": null,
   "id": "d81f1cd6",
   "metadata": {},
   "outputs": [],
   "source": []
  }
 ],
 "metadata": {
  "kernelspec": {
   "display_name": "Python 3",
   "language": "python",
   "name": "python3"
  },
  "language_info": {
   "codemirror_mode": {
    "name": "ipython",
    "version": 3
   },
   "file_extension": ".py",
   "mimetype": "text/x-python",
   "name": "python",
   "nbconvert_exporter": "python",
   "pygments_lexer": "ipython3",
   "version": "3.7.10"
  }
 },
 "nbformat": 4,
 "nbformat_minor": 5
}
