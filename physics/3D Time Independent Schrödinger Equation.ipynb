{
 "cells": [
  {
   "cell_type": "markdown",
   "id": "0b14dd54",
   "metadata": {},
   "source": [
    "# Schrödinger's Python 3\n",
    "\n",
    "<img src=\"https://github.com/natsunoyuki/blog_posts/blob/main/images/schrodinger_eq_1d.png?raw=True\" alt=\"drawing\" width=\"333\"/>\n",
    "\n",
    "In my previous posts, we explored the <a href=\"https://github.com/natsunoyuki/blog_posts/blob/main/physics/Schrödinger's%20Python.ipynb\" target=\"_blank\">1 dimensional</a> and <a href=\"https://github.com/natsunoyuki/blog_posts/blob/main/physics/Schrödinger's%20Python%202.ipynb\" target=\"_blank\">2 dimensional</a> time independent <a href=\"https://en.wikipedia.org/wiki/Schrödinger_equation\" target=\"_blank\">Schrödinger's equation</a>. Most useful applications require solving the system in at least 2 dimensions. However, to make everything complete we also need to take a look at the 3 dimensional solver which is what we will do in this post. If you haven't yet, I recommend reading the previous 2 posts for more information about the fundamentals."
   ]
  },
  {
   "cell_type": "markdown",
   "id": "b512117c",
   "metadata": {},
   "source": [
    "## The 3D Schrödinger Equation\n",
    "\n",
    "As with the 1D and 2D numerical discretisation schemes, we set _ħ_ = _m_ = 1 in order to simplify things. Also, we scale the energies _V_ and _E_ by a factor of 2. The 3 dimensional discretized equation takes on the form below.\n",
    "\n",
    "<img src=\"https://github.com/natsunoyuki/blog_posts/blob/main/images/schrodinger_eq_3d.png?raw=True\" alt=\"drawing\" width=\"700\"/>\n",
    "\n",
    "Note that _dx_, _dy_ and _dz_ are the numerical derivative step sizes for _x_, _y_ and _z_ respectively. However in such a discretized form, the wave function __Ψ__ becomes a 3 dimensional matrix with 3 indices _n_, _m_ and _l_. From a numerical eigenvalue solver standpoint, this is unacceptable as we want to solve for the system’s eigen energies and eigen wave functions which requires __Ψ__ to be in the form of a 1 dimensional vector. As with the 2 dimensional case, we use Kronecker products to combine the 3 one dimensional Hilbert spaces for _x_, _y_ and _z_ together to form a single three dimensional Hilbert space. The code used to generate the 3 dimensional Hamiltonian and solve for its eigenvalues is provided below."
   ]
  },
  {
   "cell_type": "code",
   "execution_count": 1,
   "id": "7ff72371",
   "metadata": {},
   "outputs": [],
   "source": [
    "import numpy as np\n",
    "import matplotlib.pyplot as plt\n",
    "from scipy import sparse, linalg\n",
    "from scipy.sparse import linalg as sla\n",
    " \n",
    "def schrodinger3D(xmin, xmax, Nx, \n",
    "                  ymin, ymax, Ny, \n",
    "                  zmin, zmax, Nz, \n",
    "                  Vfun3D, params, neigs, E0=0.0, findpsi=False):\n",
    "    \"\"\"\n",
    "    This function solves the 3 dimensional Schrodinger equation numerically.\n",
    "    \"\"\"\n",
    "    x = np.linspace(xmin, xmax, Nx)  \n",
    "    dx = x[1] - x[0]  \n",
    "    y = np.linspace(ymin, ymax, Ny)\n",
    "    dy = y[1] - y[0]\n",
    "    z = np.linspace(zmin, zmax, Nz)\n",
    "    dz = z[1] - z[0]\n",
    "\n",
    "    V = Vfun3D(x, y, z, params)\n",
    "\n",
    "    # create the 3D Hamiltonian matrix\n",
    "    Hx = create_hamiltonian(Nx, dx)\n",
    "    Hy = create_hamiltonian(Ny, dy)\n",
    "    Hz = create_hamiltonian(Nz, dz)\n",
    "    \n",
    "    Ix = sparse.eye(Nx)\n",
    "    Iy = sparse.eye(Ny)\n",
    "    Iz = sparse.eye(Nz)\n",
    "    \n",
    "    # Combine the 3 individual 1 dimensional Hamiltonians\n",
    "    # using Kronecker products\n",
    "    Hxy = sparse.kron(Iy, Hx) + sparse.kron(Hy, Ix)\n",
    "    Ixy = sparse.kron(Iy, Ix)\n",
    "    H = sparse.kron(Iz, Hxy) + sparse.kron(Hz, Ixy)\n",
    "    \n",
    "    # Convert to lil form and add potential energy function\n",
    "    H = H.tolil()\n",
    "    for i in range(Nx * Ny * Nz):\n",
    "        H[i, i] = H[i, i] + V[i]    \n",
    "\n",
    "    # convert to csc form and solve the eigenvalue problem\n",
    "    H = H.tocsc()  \n",
    "    [evl, evt] = sla.eigs(H, k=neigs, sigma=E0)\n",
    "            \n",
    "    if findpsi == False:\n",
    "        return evl\n",
    "    else: \n",
    "        return evl, evt, x, y, z\n",
    "    \n",
    "def create_hamiltonian(Nx, dx):\n",
    "    \"\"\"\n",
    "    This function creates a 1 dimensional numerical Hamiltonian.\n",
    "    \"\"\"\n",
    "    H = sparse.eye(Nx, Nx, format='lil') * 2\n",
    "    for i in range(Nx - 1):\n",
    "        H[i, i + 1] = -1\n",
    "        H[i + 1, i] = -1\n",
    "    H = H / (dx ** 2)  \n",
    "    return H"
   ]
  },
  {
   "cell_type": "markdown",
   "id": "3f6ddf85",
   "metadata": {},
   "source": [
    "Note that setting up the Hamiltonian matrix using the Python code above results in <a href=\"https://en.wikipedia.org/wiki/Dirichlet_boundary_condition\" target=\"_blank\">Dirichlet boundary conditions</a> being intrinsically applied to the numerical system. This should work for most situations in general, but might break down for situations which require other forms of boundary conditions such as <a href=\"https://en.wikipedia.org/wiki/Periodic_boundary_conditions\" target=\"_blank\">periodic boundary conditions</a>.\n",
    "\n",
    "## 3D Quantum Harmonic Oscillator\n",
    "\n",
    "As plotting three dimensional solutions are not easy (we will need 4 spatial dimensions to visualize everything properly), and the visualizations are hard to understand for the matter, this time round I will simply solve for the eigenenergies only. Once again I use the quantum harmonic oscillator as the test system. The theoretical eigenenergies of the 3 dimensional quantum harmonic oscillator are given by: <a href=\"https://en.wikipedia.org/wiki/Quantum_harmonic_oscillator\" target=\"_blank\">_E_ = _ħω_(_n_ + 3/2)</a>. However, note that we set _ħ_ = _ω_ = 1, and we scale the energies by a factor of 2 during the construction of the numerical Hamiltonian so the theoretical energies take the new form: _E_ = 2<i>n</i> + 3 instead."
   ]
  },
  {
   "cell_type": "code",
   "execution_count": 2,
   "id": "0128b50d",
   "metadata": {},
   "outputs": [],
   "source": [
    "def sho_eigenenergies(xmin = -5, xmax = 5, Nx = 50, ymin = -5, ymax = 5, Ny = 50, \n",
    "                      zmin = -5, zmax = 5, Nz = 50, params = [1, 1, 1], neigs = 10, E0 = 0):\n",
    "    \"\"\"\n",
    "    This function calculates the quantum simple harmonic oscillator eigenenergies.\n",
    "    Theoretically, the eigenenergies are given by: E = hw(n + 3/2), n = nx + ny + nz.\n",
    "    However, as we set h = w = 1, and we scale the energies during the Hamiltonian creation\n",
    "    by 2, the theoretical eigenenergies are given by: E = 2n + 3.\n",
    "    \"\"\"\n",
    "    def Vfun(X, Y, Z, params):\n",
    "        Nx = len(X)\n",
    "        Ny = len(Y)\n",
    "        Nz = len(Z)\n",
    "        M = Nx * Ny * Nz\n",
    "        V = np.zeros(M)\n",
    "        vindex = 0\n",
    "        for i in range(Nx):\n",
    "            for j in range(Ny):\n",
    "                for k in range(Nz):\n",
    "                    V[vindex] = params[0]*X[i] ** 2 + params[1]*Y[j] ** 2 + params[2]*Z[k] ** 2\n",
    "                    vindex = vindex + 1\n",
    "        return V\n",
    "    \n",
    "    # Only eigenvalues will be returned!\n",
    "    evl = schrodinger3D(xmin, xmax, Nx, ymin, ymax, Ny, zmin, zmax, Nz, Vfun, params, neigs, E0, False)\n",
    "    \n",
    "    indices = np.argsort(evl)\n",
    "    print(\"Energy eigenvalues:\")\n",
    "    for i,j in enumerate(evl[indices]):\n",
    "        print(\"{}: {:.2f}\".format(i + 1, np.real(j)))\n",
    "        \n",
    "    return sorted(evl)"
   ]
  },
  {
   "cell_type": "markdown",
   "id": "c3728b84",
   "metadata": {},
   "source": [
    "Running the solver for the 3 dimensional quantum harmonic oscillator above prints out the following first ten eigenenergies:"
   ]
  },
  {
   "cell_type": "code",
   "execution_count": 3,
   "id": "52348ed8",
   "metadata": {},
   "outputs": [
    {
     "name": "stdout",
     "output_type": "stream",
     "text": [
      "Energy eigenvalues:\n",
      "1: 2.98\n",
      "2: 4.95\n",
      "3: 4.95\n",
      "4: 4.95\n",
      "5: 6.89\n",
      "6: 6.89\n",
      "7: 6.89\n",
      "8: 6.92\n",
      "9: 6.92\n",
      "10: 6.92\n"
     ]
    }
   ],
   "source": [
    "evl = sho_eigenenergies(xmin = -5, xmax = 5, Nx = 30, ymin = -5, ymax = 5, Ny = 30, \n",
    "                        zmin = -5, zmax = 5, Nz = 30, params = [1, 1, 1], neigs = 10, E0 = 0)"
   ]
  },
  {
   "cell_type": "markdown",
   "id": "54519488",
   "metadata": {},
   "source": [
    "These energies agree very closely to the actual theoretical values of 3, 5, and 7. The eigenvalues also show the proper number of degeneracies for 5 and 7. This shows that the solver is working nicely!\n",
    "\n",
    "Unfortunately when more dimensions are added to the system, the amount of memory required to process the entire calculation increases very quickly. Powerful computers will be required to perform calculations within large 3D grids."
   ]
  },
  {
   "cell_type": "markdown",
   "id": "c76827e6",
   "metadata": {},
   "source": [
    "***\n",
    "## My recommended books to learn more about Quantum Mechanics:\n",
    "(I am in no way related or affiliated to the links provided!)\n",
    "\n",
    "* <a href=\"https://www.amazon.com/Introduction-Quantum-Mechanics-David-Griffiths/dp/1107179866\" target=\"_blank\">Introduction to Quantum Mechanics</a>, D. J. Griffiths - this book is a great book for those who do not have an advanced physics background. Also this book has a picture of a cat on the cover!\n",
    "* <a href=\"https://www.amazon.com/Quantum-Mechanics-2nd-B-H-Bransden/dp/0582356911\" target=\"_blank\">Quantum Mechanics</a>, B. H. Bransden and C. J. Joachain - for the more advanced people, I would recommend this introductory book which is more thorough and detailed mathematically. Unfortunately no cats on the cover."
   ]
  },
  {
   "cell_type": "code",
   "execution_count": null,
   "id": "90a3688c",
   "metadata": {},
   "outputs": [],
   "source": []
  }
 ],
 "metadata": {
  "kernelspec": {
   "display_name": "Python 3",
   "language": "python",
   "name": "python3"
  },
  "language_info": {
   "codemirror_mode": {
    "name": "ipython",
    "version": 3
   },
   "file_extension": ".py",
   "mimetype": "text/x-python",
   "name": "python",
   "nbconvert_exporter": "python",
   "pygments_lexer": "ipython3",
   "version": "3.7.11"
  }
 },
 "nbformat": 4,
 "nbformat_minor": 5
}
