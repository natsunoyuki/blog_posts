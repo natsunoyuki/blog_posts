{
 "cells": [
  {
   "cell_type": "markdown",
   "id": "376baebe",
   "metadata": {},
   "source": [
    "# Markov Chain Monte Carlo\n",
    "\n",
    "<a href=\"https://en.wikipedia.org/wiki/Markov_chain_Monte_Carlo\" target=\"_blank\">Markov chain Monte Carlo (MCMC)</a> is a broad class of algorithms which sample from a probability distribution. In particular, MCMC methods have found various applications in physics, such as in the area statistical mechanics. In this post we will explore how to use MCMC to simulate the magnetic properties of a crystal."
   ]
  },
  {
   "cell_type": "markdown",
   "id": "f03226ec",
   "metadata": {},
   "source": [
    "## The 2D Ising Model\n",
    "\n",
    "The <a href=\"https://en.wikipedia.org/wiki/Ising_model\" target=\"_blank\">2D Ising model</a> is a model of <a href=\"https://en.wikipedia.org/wiki/Ferromagnetism\" target=\"_blank\">ferromagnetism</a>, usually consisting of a lattice of spins. Each spin can either be in the spin up or the spin down states. Ferromagnetism occurs when the vast majority of the spins in the lattice point occupy the same state as shown in the figure below.\n",
    "\n",
    "<img src=\"https://github.com/natsunoyuki/blog_posts/blob/main/images/Ising_model_1.jpg?raw=True\" alt=\"drawing\" width=\"500\"/>\n",
    "\n",
    "Individual ferromagnetic spins tend to want to point in the same direction as the neighbouring spins as this configuration lowers the energy of the crystal. When the vast majority of spins are pointing in the same direction, the lattice exhibits magnetization and becomes magnetic. However, heating the spins increases the amount of energy in the lattice, and will result in more spins flipping randomly, thereby decreasing the amount of magnetization until all spins in the lattice are flipping randomly. The lattice eventually becomes non-magnetic after being heated past a certain temperature called the <a href=\"https://en.wikipedia.org/wiki/Curie_temperature\" target=\"_blank\">Curie temperature</a>.\n",
    "\n",
    "## The Metropolis-Hastings Algorithm\n",
    "\n",
    "For the 2D Ising model, each individual spin tends to want to point in the same direction as the 4 nearest neighbouring spins upwards, rightwards, downwards and leftwards of that spin. More complex models might consider other configurations such as the next nearest neighbouring spins.\n",
    "\n",
    "Each iteration, we randomly choose a spin `s0` in the lattice and compute the sum of the 4 nearest neighbouring spins' `[s1, s2, s3, s4]` values: \n",
    "\n",
    "`___s4___`   \n",
    "`s3_s0_s1`   \n",
    "`___s2___`.\n",
    "\n",
    "The randomly chosen spin has 2 possible values: -1 and 1. The sum of the 4 nearest neighbouring spins have the following possible 5 values: -4, -2, 0, 2, 4.  This leads to a total of 10 different possible configurations for this set of 5 spins. Each configuration corresponds to a different level of energy of the system, and hence a different probability of the chosen spin flipping due to the effects of the 4 neighbouring spins. In the Metropolis-Hastings algorithm, we sample the uniform random distribution. If the sampled random number is smaller than the probability of flipping for a given configuration, the chosen spin flips. If not, nothing happens. This process is repeated until the entire lattice achieves equilibirum and no net changes occur due to random flipping.\n",
    "\n",
    "We code this algorithm in `ising2D` below. `ising2D` takes 4 inputs: the size of the x-axis `Nx`, the size of the y-axis `Ny`, the array of spin states in the lattice `spin`, and an array of probability of spin flips `pflip`. The function performs 1 iteration of the MCMC simulation and returns the updated array of spins states.\n",
    "\n",
    "In this Python code instead of using a 2D array to contain the 2D lattice of spins, we fold the 2D array into a 1D array in order to reduce computational cost. Given some randomly chosen spin on the folded 1D array, its corresponding 2D array grid points are `x = np.mod(r, Nx)` and `y = r // Nx`. The corresponding 4 nearest neighbouring spins have the folded 1D array grid points: \n",
    "\n",
    "* `np.mod(x + 1, Nx) + y * Ny` for the spin to the right `s1`,\n",
    "* `x + np.mod(y + 1, Ny) * Nx` for the spin to the bottom `s2`,\n",
    "* `np.mod(x - 1 + Nx, Nx) + y * Nx` for the spin to the left `s3`,\n",
    "* `x + np.mod(y - 1 + Ny, Ny) * Nx` for the spin to the top `s4`."
   ]
  },
  {
   "cell_type": "code",
   "execution_count": 1,
   "id": "70e739f9",
   "metadata": {},
   "outputs": [],
   "source": [
    "import numpy as np\n",
    "import matplotlib.pyplot as plt\n",
    "import time\n",
    "import tqdm\n",
    "\n",
    "import warnings\n",
    "warnings.filterwarnings(\"ignore\")\n",
    "\n",
    "np.random.seed(123) # seed the RNG.\n",
    "\n",
    "def ising2D(Nx, Ny, spin, pflip):\n",
    "    \"\"\"\n",
    "    Inputs:\n",
    "        Nx: int\n",
    "            Size of the x-axis.\n",
    "        Ny: int\n",
    "            Size of the y-axis.\n",
    "        spin: array\n",
    "            Array containing the lattice of spins.\n",
    "        pflip: array\n",
    "            Array containing the flip probabilities for a given temperature and lattice structure.\n",
    "    Outputs:\n",
    "        spin: array\n",
    "            Array containing the updated lattice of spins.\n",
    "    \"\"\"\n",
    "    N = Nx * Ny # Total number of spins in the lattice.\n",
    "    \n",
    "    # Randomly choose a spin in the lattice.\n",
    "    r = int(np.random.random() * N)\n",
    "    # Obtain the corresponding x and y grid points.\n",
    "    x = np.mod(r, Nx)\n",
    "    y = r // Nx\n",
    "    \n",
    "    # Location of the spins in the lattice.\n",
    "    #     s4\n",
    "    #  s3 s0 s1 \n",
    "    #     s2\n",
    "    s0 = spin[r]\n",
    "    s1 = spin[np.mod(x + 1, Nx) + y * Ny]\n",
    "    s2 = spin[x + np.mod(y + 1, Ny) * Nx]\n",
    "    s3 = spin[np.mod(x - 1 + Nx, Nx) + y * Nx]\n",
    "    s4 = spin[x + np.mod(y - 1 + Ny, Ny) * Nx]\n",
    "    \n",
    "    # Sum of the nearest neighbours' spin values.\n",
    "    neighbours = s1 + s2 + s3 + s4\n",
    "\n",
    "    # Obtain the corresponding probability of s0 flipping.\n",
    "    # For this system of 5 spins, there are 2 different configurations\n",
    "    # due to s0 being able to take on the values {-1, 1}\n",
    "    if s0 == 1:\n",
    "        pfliprow = 0\n",
    "    elif s0 == -1:\n",
    "        pfliprow = 1\n",
    "    # And there are 5 different configurations due to neighbours being able\n",
    "    # to take on the values {-4, -2, 0, 2, 4}.\n",
    "    if neighbours == -4:\n",
    "        pflipcol = 0\n",
    "    elif neighbours == -2:\n",
    "        pflipcol = 1\n",
    "    elif neighbours == 0:\n",
    "        pflipcol = 2\n",
    "    elif neighbours == 2:\n",
    "        pflipcol = 3 \n",
    "    elif neighbours == 4:\n",
    "        pflipcol = 4\n",
    "        \n",
    "    # Sample from the uniform random distribution. If this sampled value is\n",
    "    # smaller than the expected probability of s0 flipping, flip s0. If not,\n",
    "    # nothing happens!\n",
    "    rand = np.random.random()\n",
    "    if rand < pflip[pfliprow, pflipcol]:\n",
    "        spin[r] = -spin[r] \n",
    "        \n",
    "    return spin"
   ]
  },
  {
   "cell_type": "markdown",
   "id": "d21c934c",
   "metadata": {},
   "source": [
    "Next we create the main driver function `ising_metropolis_2D` to ite\n",
    "rate the MCMC code above in `ising2D` multiple times. `ising_metropolis_2D` takes the following inputs: the ferromagnetic coupling coefficient `J`, the external magnetic field `H`, an array of temperatures to iterate over `T`, the size of the x-axis `Nx`, the size of the y-axis `Ny`, the number of steps to run the simulation `steps` and the number of warmup steps prior to running the MCMC simulation `warmup_steps`.\n",
    "\n",
    "For each temperature value in `T`, we first pre-calculate the various probabilities of spin flips based on the 10 possible configurations we listed above. The probability of each configuration is calculated using the equation\n",
    "\n",
    "`pflip[i, j] = np.exp(2 * (H + J * Sj) * Si * -B)`,\n",
    "\n",
    "where `H` is the external magnetic field, `J` is ferromagnetic coupling coefficient, `Sj` is the sum of the 4 nearest neighbouring spins, `Si` is the value of the central spin and `B = 1 / (k * T[t])` is the <a href=\"https://en.wikipedia.org/wiki/Thermodynamic_beta\" target=\"_blank\">thermodynamic beta</a>.\n",
    "\n",
    "From this equation, the probability of a spin flipping is a result of:\n",
    "* `H`, the external magnetic field - spins tend to align themselves along the direction of the external field.\n",
    "* `J * Sj`, the directions of the 4 nearest neighbours - spins tend to align themselves with neighbouring spin directions.\n",
    "* `B`, the inverse of the temperature - high temperature means more thermal energy, leading to more random flips in the lattice."
   ]
  },
  {
   "cell_type": "code",
   "execution_count": 2,
   "id": "bd8ac822",
   "metadata": {},
   "outputs": [],
   "source": [
    "# [T, M] = ising_metropolis_2D(1.0, 0.0, np.linspace(0.01, 5, 50), 20, 20, 100000, 100000)\n",
    "\n",
    "def ising_metropolis_2D(J, H, T, Nx, Ny, steps, warmup_steps):\n",
    "    \"\"\"\n",
    "    Inputs:\n",
    "        J: float\n",
    "            Ferromagnetic coupling coefficient. J > 0 for ferromagnetism, J < 0 for antiferromagnetism\n",
    "            and J = 0 for non-interacting spins.\n",
    "        H: float\n",
    "            External magnetic field.\n",
    "        T: array\n",
    "            Array of temperatures to simulate.\n",
    "        Nx: int\n",
    "            Size of the x-axis.\n",
    "        Ny: int\n",
    "            Size of the y-axis.\n",
    "        steps: int\n",
    "            Number of steps to run the MCMC simulation.\n",
    "        warmup_steps: int\n",
    "            Number of warmup steps before running the actual MCMC simulation to remove any biases.\n",
    "    Outputs:\n",
    "        T: array\n",
    "            Array of temperatures used in the MCMC simulation.\n",
    "        M: array\n",
    "            Array of magnetization measured during the MCMC simulation.\n",
    "    \"\"\"\n",
    "    N = Nx * Ny  # Total number of spins\n",
    "    k = 1  # Boltzmann constant\n",
    "    M = np.zeros(len(T)) # Array to hold the spins in the crystal\n",
    " \n",
    "    for t in tqdm.trange(len(T)):\n",
    "        spin = np.ones(N)  # Reset the spins for each temperature\n",
    "        \n",
    "        # For each temperature T, pre-calculate the probability of spin flips to \n",
    "        # reduce computational resource consumption.\n",
    "        B = 1 / (k * T[t])\n",
    "        pflip = np.zeros([2, 5])  \n",
    "        # There are a total of 10 weight values, 2 for 1,-1 and 5 for -4,-2,0,2,4\n",
    "        # for each value of T pre compute the weights so as to speed up the computing time:\n",
    "        Si = 1\n",
    "        Sj = -4\n",
    "        for i in range(2):  # 2 rows\n",
    "            for j in range(5):  # 5 columns\n",
    "                pflip[i, j] = np.exp(2 * (H + J * Sj) * Si * -B)  # Probability of flipping the spin\n",
    "                Sj = Sj + 2  # for -4,-2,0,2,4\n",
    "            Si = -1  # \"reset\" Si to -1 for the second row:\n",
    "            Sj = -4  # reset Sj to -4 again\n",
    "\n",
    "        # Warm up steps:\n",
    "        for n in range(warmup_steps):\n",
    "            spin = ising2D(Nx, Ny, spin, pflip)\n",
    "                \n",
    "        # Actual MC:\n",
    "        for n in range(steps):\n",
    "            spin = ising2D(Nx, Ny, spin, pflip)\n",
    "\n",
    "            # Perform the measurements of the magnetization.\n",
    "            M[t] = M[t] + np.sum(spin) / N\n",
    "\n",
    "        # Take the average values of the measurements over all MC steps\n",
    "        M[t] = np.abs(M[t] / steps)  # Take only the absolute values of M\n",
    " \n",
    "    return [T, M]"
   ]
  },
  {
   "cell_type": "markdown",
   "id": "1e2508ec",
   "metadata": {},
   "source": [
    "## Ferromagnetic Phase Transition of a 2D Crystal\n",
    "\n",
    "We simulate a lattice with `20 * 20 = 400` spins with a ferromagnetic coupling coefficient of 1. Running the simulation for 100000 `warmpup_steps` and 100000 MCMC `steps` leads to a ferromagnetic phase transition around a temperature of 2. For `T ≲ 2` the temperature is low enough such that the lattice is ferromagnetic."
   ]
  },
  {
   "cell_type": "code",
   "execution_count": 3,
   "id": "b06c35d7",
   "metadata": {},
   "outputs": [
    {
     "name": "stderr",
     "output_type": "stream",
     "text": [
      "100%|██████████| 50/50 [03:47<00:00,  4.55s/it]\n"
     ]
    }
   ],
   "source": [
    "[T, M] = ising_metropolis_2D(1.0, 0.0, np.linspace(0.01, 5, 50), 20, 20, 100000, 100000)"
   ]
  },
  {
   "cell_type": "code",
   "execution_count": 4,
   "id": "8a7d828b",
   "metadata": {},
   "outputs": [
    {
     "data": {
      "image/png": "[encoded data removed]",
      "text/plain": [
       "<Figure size 640x480 with 1 Axes>"
      ]
     },
     "metadata": {},
     "output_type": "display_data"
    }
   ],
   "source": [
    "plt.plot(T, M)\n",
    "plt.xlabel(\"Temperature\")\n",
    "plt.ylabel(\"Magnetism\")\n",
    "plt.show()"
   ]
  },
  {
   "cell_type": "markdown",
   "id": "d1322134",
   "metadata": {},
   "source": [
    "For this demonstration, we iterate over the array of temperatures `T` one by one. This is not very efficient as the results from each temperature do not affect those of other temperatures, and the MCMC simulation for each temperature should be processed in parallel to speed up processing times. For interested readers, how to implement parallel processing in Python is covered in <a href=\"https://github.com/natsunoyuki/blog_posts/blob/main/physics/Parallel%20Process%20Monte%20Carlo%20Simulations%20with%20Python.ipynb\" target=\"_blank\">another post</a>.\n",
    "\n",
    "***\n",
    "\n",
    "## References\n",
    "* http://www1.spms.ntu.edu.sg/~ydchong/teaching/PH4505-12.htm"
   ]
  },
  {
   "cell_type": "code",
   "execution_count": null,
   "id": "2651542a",
   "metadata": {},
   "outputs": [],
   "source": []
  }
 ],
 "metadata": {
  "kernelspec": {
   "display_name": "Python 3",
   "language": "python",
   "name": "python3"
  },
  "language_info": {
   "codemirror_mode": {
    "name": "ipython",
    "version": 3
   },
   "file_extension": ".py",
   "mimetype": "text/x-python",
   "name": "python",
   "nbconvert_exporter": "python",
   "pygments_lexer": "ipython3",
   "version": "3.7.11"
  }
 },
 "nbformat": 4,
 "nbformat_minor": 5
}
