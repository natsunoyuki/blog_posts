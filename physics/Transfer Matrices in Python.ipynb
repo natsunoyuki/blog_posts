{
 "cells": [
  {
   "cell_type": "markdown",
   "id": "d44b19ff",
   "metadata": {},
   "source": [
    "# Transfer Matrices in Python\n",
    "\n",
    "<a href=\"https://en.wikipedia.org/wiki/Transfer_matrix\" target=\"_blank\">Transfer matrices</a> are one of the many methods used to solve for the propagation of waves across a system. For example, this method can be used in quantum mechanics to solve for the <a href=\"https://en.wikipedia.org/wiki/Schrödinger_equation\" target=\"_blank\">Schrödinger equation</a>, as well as for the propagation of <a href=\"https://en.wikipedia.org/wiki/Transfer-matrix_method_(optics)\" target=\"_blank\">electromagnetic waves</a>. Simply put, the transfer matrix __T__ is a 2 × 2 matrix that relates the complex quantum mechanical wave function at position __x__<sub>0</sub> to another position at __x__<sub>1</sub> through the linear relation: \n",
    "\n",
    "__ψ__(__x__<sub>0</sub>) = __T__(__x__<sub>1</sub>, __x__<sub>0</sub>)__ψ__(__x__<sub>1</sub>). \n",
    "\n",
    "In this post, we will explore how to calculate the transfer matrix for a 1D quantum mechanical system in Python. "
   ]
  },
  {
   "cell_type": "markdown",
   "id": "13bba053",
   "metadata": {},
   "source": [
    "## The Transfer Matrix\n",
    "\n",
    "We will focus on implementing the quantum mechanical calculations in Python, and will not derive any of the mathematical details used. For those who want to know more about the mathematical details on the derivations of the various operations used, these <a href=\"http://www1.spms.ntu.edu.sg/~ydchong/teaching/PH4401_Appendix_B_transfer_matrix.pdf\" target=\"_blank\">notes by Prof. Chong Yidong</a> from NTU are a good start. \n",
    "\n",
    "The transfer matrix can be calculated using two basic operations: a jump across two adjacent potential steps, and a translation across a potential step. By combining multiple iterations of these 2 operations together for the various potential steps in a potential well, we can determine the transfer matrix for a particle traveling from one end of the well to the other end. The jump across two adjacent potential steps can be calculated using the function below."
   ]
  },
  {
   "cell_type": "code",
   "execution_count": 1,
   "id": "ee06e114",
   "metadata": {},
   "outputs": [],
   "source": [
    "import numpy as np\n",
    "from numpy.lib.scimath import sqrt\n",
    "import matplotlib.pyplot as plt\n",
    "from scipy import linalg\n",
    "\n",
    "def jump(k_0, k_1):\n",
    "    \"\"\"\n",
    "    Calculates the transfer matrix for jumps across\n",
    "    potential steps.\n",
    " \n",
    "    Inputs\n",
    "    ------\n",
    "    k_0: wave number on the left of the step.\n",
    "    k_1: wave number on the right of the step.\n",
    "\n",
    "    Returns\n",
    "    -------\n",
    "    J: transfer matrix for jumps.\n",
    "    \"\"\"\n",
    "    if k_1 == 0: # to address zero division...\n",
    "        k_1 = k_0 * 0.01\n",
    "    J = np.array([[1 + k_0 / k_1, 1 - k_0 / k_1], \n",
    "                  [1 - k_0 / k_1, 1 + k_0 / k_1]])\n",
    "    return J / 2.0"
   ]
  },
  {
   "cell_type": "markdown",
   "id": "e627f0e0",
   "metadata": {},
   "source": [
    "The translation across a potential step of length _L_ can be calculated using the following function."
   ]
  },
  {
   "cell_type": "code",
   "execution_count": 2,
   "id": "9dda9572",
   "metadata": {},
   "outputs": [],
   "source": [
    "def translate(k, L):\n",
    "    \"\"\"\n",
    "    Calculates the transfer matrix for translations\n",
    "    along potential steps.\n",
    " \n",
    "    Inputs\n",
    "    ------\n",
    "    k: wave number for along the potential step.\n",
    "    L: length of the potential step.\n",
    "\n",
    "    Returns\n",
    "    -------\n",
    "    T: transfer matrix for translations.\n",
    "    \"\"\"\n",
    "    T = np.array([[np.exp(1j * k * L), 0], \n",
    "                  [0, np.exp(-1j * k * L)]])\n",
    "    return T"
   ]
  },
  {
   "cell_type": "markdown",
   "id": "90d08b16",
   "metadata": {},
   "source": [
    "Using the two basic operations for jumps and translations, the transfer matrix for a 1D quantum mechanical system defined by a particle with energy _E_, a potential well with potential steps _V_ and length _L_, and external (reference) potential _V_<sub>0</sub> can be calculated using the function below. Note that the `sqrt` function used is from `numpy.lib.scimath` instead of `numpy`, which handles complex numbers properly."
   ]
  },
  {
   "cell_type": "code",
   "execution_count": 3,
   "id": "83c58579",
   "metadata": {},
   "outputs": [],
   "source": [
    "def transfer_matrix(E, V, L, V0):\n",
    "    \"\"\"\n",
    "    This function calculates the transfer matrix \n",
    "    for a series of quantum potentials.\n",
    "    \n",
    "    This code assumes that V0 is the same on both \n",
    "    sides of the potential well.\n",
    "    This code assumes that E != V.\n",
    "    \n",
    "    Inputs\n",
    "    ------\n",
    "    E: float, particle energy.\n",
    "    V: np.array, potential steps.\n",
    "    L: np.array, potential step lengths.\n",
    "    V0: float, potential on both sides of the well.\n",
    "    \n",
    "    Returns\n",
    "    -------\n",
    "    transfer: np.array, 2 x 2 transfer matrix.\n",
    "    \"\"\"\n",
    "\n",
    "    assert len(V) == len(L)\n",
    "    N = len(L)\n",
    "    V = np.append(V, V0) \n",
    "    k = sqrt(E - V)\n",
    " \n",
    "    # Calculate the first potential jump from V0 to V[0]\n",
    "    transfer = jump(sqrt(E - V0), k[0])\n",
    "\n",
    "    # Loop over the remaining potential steps\n",
    "    for n in range(N):\n",
    "        # Translate across V[n]:\n",
    "        Translate = translate(k[n], L[n])\n",
    "        # Jump from V[n] to V[n+1]:\n",
    "        Jump = jump(k[n], k[n + 1])\n",
    "        transfer = np.dot(Translate, transfer)\n",
    "        transfer = np.dot(Jump, transfer)\n",
    "        \n",
    "    return transfer"
   ]
  },
  {
   "cell_type": "markdown",
   "id": "950f96ba",
   "metadata": {},
   "source": [
    "In order to explore how to use the results of this function, we explore the reflection and transmission coefficients of a particle impinging on a potential step. The reflection coefficient can be calculated from the transfer matrix __T__ using the relation: \n",
    "\n",
    "`Re = np.abs(T[1, 0] / T[1, 1]) ** 2`, \n",
    "\n",
    "while the corresponding transmission coefficient can be calculated using the relation: \n",
    "\n",
    "`Tr = np.abs(linalg.det(T) / T[1, 1]) ** 2`. \n",
    "\n",
    "Together with the reflection and transmission coefficients calculated from the transfer matrix __T__, we plot the positions of the theoretical eigenvalues of a particle trapped in a box, given by the equation: \n",
    "\n",
    "_E_<sub>eig</sub> = <i>n</i><sup>2</sup><i>ħ</i><sup>2</sup>π<sup>2</sup>/2<i>mL</i><sup>2</sup> + <i>V</i>."
   ]
  },
  {
   "cell_type": "code",
   "execution_count": 4,
   "id": "af24ed95",
   "metadata": {},
   "outputs": [
    {
     "data": {
      "image/png": "[encoded data removed]",
      "text/plain": [
       "<Figure size 1080x360 with 1 Axes>"
      ]
     },
     "metadata": {
      "needs_background": "light"
     },
     "output_type": "display_data"
    }
   ],
   "source": [
    "# List of particle energies to consider\n",
    "E = np.linspace(1, 250, 700) \n",
    "# Potential is a single step with V = 50\n",
    "V = np.array([50])\n",
    "# and L = 1\n",
    "L = np.array([1])\n",
    "# The external (reference) potential is V0 = 0\n",
    "V0 = 0\n",
    "\n",
    "# Transmission coefficient results\n",
    "Tr = np.zeros(len(E))  \n",
    "# Reflection coefficient results\n",
    "Re = np.zeros(len(E))\n",
    "    \n",
    "for i in range(len(E)):\n",
    "    T = transfer_matrix(E[i], V, L, V0)  \n",
    "    # Reflection coefficient\n",
    "    Re[i] = np.abs(T[1, 0] / T[1, 1]) ** 2 \n",
    "    # Transmission coefficient\n",
    "    Tr[i] = np.abs(linalg.det(T) / T[1, 1]) ** 2   \n",
    "        \n",
    "# Eigenvalues of particle in a box are:\n",
    "# H = n^2 hbar^2 pi^2 / 2 m L^2 + V\n",
    "# we have normalised hbar^2/2 m = 1:\n",
    "n = np.array([1, 2, 3, 4])\n",
    "H = (n ** 2) * (np.pi ** 2) + 50\n",
    "\n",
    "plt.figure(figsize=(15, 5))\n",
    "plt.semilogy(E, Tr, 'r')\n",
    "plt.semilogy(E, Re, 'c')\n",
    "plt.vlines(H, 1e-7, 1)\n",
    "plt.legend([\"Transmission\", \n",
    "            \"Reflection\", \n",
    "            \"Eigenvalues\"])\n",
    "plt.xlabel('E')\n",
    "plt.ylabel('Transmission/Reflection Coefficients')\n",
    "plt.grid(True)\n",
    "plt.show()"
   ]
  },
  {
   "cell_type": "markdown",
   "id": "df0b5265",
   "metadata": {},
   "source": [
    "Generally, the transmission curve increases from a miminum to a maximum transmission past the value of _E_ = _V_ = 50, while the reflection remains near the maximum value and starts to decrease past the same value. The region of _E_ < 50 corresponds to the classical regime where the particle cannot overcome the potential barrier due to it having a lower energy than the potential barrier. However in the quantum mechanical regime, the particle has a very small chance that it can tunnel through the barrier.\n",
    "\n",
    "The interesting feature is that past _E_ = 50 the reflection transmission does not decay gradually i.e. the curve is not well behaved, there are some sharp dips in the curve at certain values of _E_, and these sharp dips occur at the energies which are the same as those of energy eigenvalues of a particle trapped in a box. Additionally, these sharp dips of the reflection curve coincide with a transmission value of 1 in the transmission curve; i.e. the transmission coefficient equals 1 only for certain values of _E_ rather than for all values of _E_ > _V_.\n",
    "\n",
    "The transmission coefficient equals 1 only when the width of the barrier is half-integral or full-integral of the de Broglie wavelength of the particle within the potential step. Working out the mathematical details leads to the analytical result that the energy of the particle follows the form of the energy eigenvalues of a particle in a box: \n",
    "\n",
    "_E_<sub>eig</sub> = <i>n</i><sup>2</sup><i>ħ</i><sup>2</sup>π<sup>2</sup>/2<i>mL</i><sup>2</sup> + <i>V</i>.\n",
    "\n",
    "This is a result of destructive interference between reflections of the quantum mechanical wave functions at the two edges of the potential step."
   ]
  },
  {
   "cell_type": "markdown",
   "id": "d981e3e9",
   "metadata": {},
   "source": [
    "***\n",
    "\n",
    "## References\n",
    "\n",
    "* <a href=\"http://www1.spms.ntu.edu.sg/~ydchong/teaching/PH4401_Appendix_B_transfer_matrix.pdf\" target=\"_blank\">The Transfer Matrix Method, YD Chong</a>.\n",
    "\n",
    "* <a href=\"https://www.amazon.com/Quantum-Mechanics-Vol-Albert-Messiah/dp/B000LCEXBY\" target=\"_blank\">Quantum Mechanics Vol 1, A. Messiah Pgs 88-98</a>.\n",
    "\n",
    "* <a href=\"https://www.amazon.com/Quantum-Mechanics-2nd-B-H-Bransden/dp/0582356911\" target=\"_blank\">Quantum Mechanics 2nd Edition, Bransden and Joachain Pgs 154-155</a>.\n",
    "\n",
    "* <a href=\"https://www.amazon.com/Introduction-Quantum-Mechanics-David-Griffiths/dp/1107179866\" target=\"_blank\">Introduction to Quantum Mechanics 2nd Edition, D. Griffiths Pg 82</a>."
   ]
  },
  {
   "cell_type": "code",
   "execution_count": null,
   "id": "1b254ecb",
   "metadata": {},
   "outputs": [],
   "source": []
  }
 ],
 "metadata": {
  "kernelspec": {
   "display_name": "Python 3",
   "language": "python",
   "name": "python3"
  },
  "language_info": {
   "codemirror_mode": {
    "name": "ipython",
    "version": 3
   },
   "file_extension": ".py",
   "mimetype": "text/x-python",
   "name": "python",
   "nbconvert_exporter": "python",
   "pygments_lexer": "ipython3",
   "version": "3.7.10"
  }
 },
 "nbformat": 4,
 "nbformat_minor": 5
}
